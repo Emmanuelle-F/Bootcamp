{
 "cells": [
  {
   "cell_type": "code",
   "execution_count": 23,
   "id": "fb2f79f7",
   "metadata": {},
   "outputs": [],
   "source": [
    "#1. Ask for User Input: The string must be exactly 10 characters long.\n",
    "\n",
    "userInput = input (\"Please enter a string of 10 characters\")"
   ]
  },
  {
   "cell_type": "code",
   "execution_count": 24,
   "id": "8ac098bd",
   "metadata": {},
   "outputs": [
    {
     "name": "stdout",
     "output_type": "stream",
     "text": [
      "Perfect string and proceed to the next steps.\n"
     ]
    }
   ],
   "source": [
    "#2. Check the Length of the String:\n",
    "\n",
    "stringLength = len(userInput)\n",
    "\n",
    "if stringLength < 10:\n",
    "    print (\"String not long enough.\")\n",
    "elif stringLength > 10:\n",
    "    print (\"String too long.\")\n",
    "else:\n",
    "    print (\"Perfect string and proceed to the next steps.\")"
   ]
  },
  {
   "cell_type": "code",
   "execution_count": 25,
   "id": "0904e3b5",
   "metadata": {},
   "outputs": [
    {
     "name": "stdout",
     "output_type": "stream",
     "text": [
      "First Character: E\n",
      "Last Character: e\n"
     ]
    }
   ],
   "source": [
    "# 3. Print the First and Last Characters:\n",
    "\n",
    "firstCharacter = userInput[0:1]\n",
    "print (f\"First Character: {firstCharacter}\")\n",
    "\n",
    "lastCharacter = userInput[stringLength - 1:stringLength]\n",
    "print (f\"Last Character: {lastCharacter}\")"
   ]
  },
  {
   "cell_type": "code",
   "execution_count": 26,
   "id": "67f0a8a9",
   "metadata": {},
   "outputs": [
    {
     "name": "stdout",
     "output_type": "stream",
     "text": [
      "E\n",
      "Em\n",
      "Emm\n",
      "Emma\n",
      "Emman\n",
      "Emmanu\n",
      "Emmanue\n",
      "Emmanuel\n",
      "Emmanuell\n",
      "Emmanuelle\n"
     ]
    }
   ],
   "source": [
    "# 4. Build the String Character by Character:\n",
    "completeString = \"\"\n",
    "\n",
    "for letter in userInput:\n",
    "    completeString = completeString + letter\n",
    "    print (completeString)"
   ]
  },
  {
   "cell_type": "code",
   "execution_count": null,
   "id": "1f3dc1ae",
   "metadata": {},
   "outputs": [
    {
     "name": "stdout",
     "output_type": "stream",
     "text": [
      "Emmanuelle\n",
      "eulmlmeaEn\n"
     ]
    }
   ],
   "source": [
    "# 5. Bonus: Jumble the String (Optional)\n",
    "\n",
    "import random\n",
    "\n",
    "print (userInput)\n",
    "\n",
    "characterList = list(userInput)\n",
    "\n",
    "random.shuffle(characterList)\n",
    "\n",
    "jumbledString = ''.join(characterList)\n",
    "\n",
    "print (jumbledString)\n",
    "\n"
   ]
  }
 ],
 "metadata": {
  "kernelspec": {
   "display_name": "Python 3",
   "language": "python",
   "name": "python3"
  },
  "language_info": {
   "name": "python",
   "version": "3.13.3"
  }
 },
 "nbformat": 4,
 "nbformat_minor": 5
}
