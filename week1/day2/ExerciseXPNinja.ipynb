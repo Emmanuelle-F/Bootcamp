{
 "cells": [
  {
   "cell_type": "code",
   "execution_count": 2,
   "id": "ef51394e",
   "metadata": {},
   "outputs": [
    {
     "data": {
      "text/plain": [
       "True"
      ]
     },
     "execution_count": 2,
     "metadata": {},
     "output_type": "execute_result"
    }
   ],
   "source": [
    "# Exercise 3 : Outputs\n",
    "\n",
    "3 <= 3 < 9"
   ]
  },
  {
   "cell_type": "code",
   "execution_count": 3,
   "id": "da0905e1",
   "metadata": {},
   "outputs": [
    {
     "data": {
      "text/plain": [
       "True"
      ]
     },
     "execution_count": 3,
     "metadata": {},
     "output_type": "execute_result"
    }
   ],
   "source": [
    "# Exercise 3 : Outputs\n",
    "3 == 3 == 3"
   ]
  },
  {
   "cell_type": "code",
   "execution_count": 1,
   "id": "eea81f19",
   "metadata": {},
   "outputs": [
    {
     "data": {
      "text/plain": [
       "False"
      ]
     },
     "execution_count": 1,
     "metadata": {},
     "output_type": "execute_result"
    }
   ],
   "source": [
    "# Exercise 3 : Outputs\n",
    "bool(0)"
   ]
  },
  {
   "cell_type": "code",
   "execution_count": 2,
   "id": "3a6ba090",
   "metadata": {},
   "outputs": [
    {
     "data": {
      "text/plain": [
       "False"
      ]
     },
     "execution_count": 2,
     "metadata": {},
     "output_type": "execute_result"
    }
   ],
   "source": [
    "# Exercise 3 : Outputs\n",
    "bool(5 == \"5\")"
   ]
  },
  {
   "cell_type": "code",
   "execution_count": 3,
   "id": "9c633fd3",
   "metadata": {},
   "outputs": [
    {
     "data": {
      "text/plain": [
       "True"
      ]
     },
     "execution_count": 3,
     "metadata": {},
     "output_type": "execute_result"
    }
   ],
   "source": [
    "# Exercise 3 : Outputs\n",
    "bool(4 == 4) == bool(\"4\" == \"4\")"
   ]
  },
  {
   "cell_type": "code",
   "execution_count": 4,
   "id": "0f99c00b",
   "metadata": {},
   "outputs": [
    {
     "data": {
      "text/plain": [
       "False"
      ]
     },
     "execution_count": 4,
     "metadata": {},
     "output_type": "execute_result"
    }
   ],
   "source": [
    "# Exercise 3 : Outputs\n",
    "bool(bool(None))"
   ]
  },
  {
   "cell_type": "code",
   "execution_count": 5,
   "id": "734a54dd",
   "metadata": {},
   "outputs": [
    {
     "name": "stdout",
     "output_type": "stream",
     "text": [
      "x is True\n",
      "y is False\n",
      "a: 5\n",
      "b: 10\n"
     ]
    }
   ],
   "source": [
    "# Exercise 3 : Outputs\n",
    "x = (1 == True)\n",
    "y = (1 == False)\n",
    "a = True + 4\n",
    "b = False + 10\n",
    "\n",
    "print(\"x is\", x)\n",
    "print(\"y is\", y)\n",
    "print(\"a:\", a)\n",
    "print(\"b:\", b)"
   ]
  },
  {
   "cell_type": "code",
   "execution_count": 10,
   "id": "a240b8a9",
   "metadata": {},
   "outputs": [
    {
     "name": "stdout",
     "output_type": "stream",
     "text": [
      "Number of characters: 445\n"
     ]
    }
   ],
   "source": [
    "# Exercise 4 : How many characters in a sentence ?\n",
    "\n",
    "my_text = \"Lorem ipsum dolor sit amet, consectetur adipiscing elit, sed do eiusmod tempor incididunt ut labore et dolore magna aliqua. Ut enim ad minim veniam, quis nostrud exercitation ullamco laboris nisi ut aliquip ex ea commodo consequat. Duis aute irure dolor in reprehenderit in voluptate velit esse cillum dolore eu fugiat nulla pariatur. Excepteur sint occaecat cupidatat non proident, sunt in culpa qui officia deserunt mollit anim id est laborum.\"\n",
    "\n",
    "numOfCharacters = len(my_text)\n",
    "\n",
    "print(\"Number of characters:\", numOfCharacters)"
   ]
  },
  {
   "cell_type": "code",
   "execution_count": 9,
   "id": "a3377892",
   "metadata": {},
   "outputs": [
    {
     "name": "stdout",
     "output_type": "stream",
     "text": [
      "Congrats! You input the longest sentence withour the character \"A\" \n",
      "9 9\n",
      "Congrats! You input the longest sentence withour the character \"A\" \n",
      "16 16\n",
      "Congrats! You input the longest sentence withour the character \"A\" \n",
      "49 49\n",
      "You cannot use the character \"A\" in your sentence\n",
      "You cannot use the character \"A\" in your sentence\n",
      "Congrats! You input the longest sentence withour the character \"A\" \n",
      "72 72\n",
      "You cannot use the character \"A\" in your sentence\n",
      "You cannot use the character \"A\" in your sentence\n",
      "You cannot use the character \"A\" in your sentence\n"
     ]
    }
   ],
   "source": [
    "# Exercise 5: Longest word without a specific character\n",
    "\n",
    "numOfCharacters = 0\n",
    "forbiddenCharater = \"a\"\n",
    "longestSentence = \"\"\n",
    "\n",
    "while longestSentence.lower() != \"x\":\n",
    "    longestSentence = input(\"Enter the longest sentence you can without the character A\")\n",
    "\n",
    "    if forbiddenCharater in longestSentence.lower():\n",
    "        print('You cannot use the character \"A\" in your sentence')\n",
    "    else:\n",
    "        sentenceLength = len(longestSentence)\n",
    "\n",
    "        if sentenceLength > numOfCharacters:\n",
    "            print('Congrats! You input the longest sentence withour the character \"A\" ')\n",
    "            numOfCharacters = sentenceLength\n",
    "            print(numOfCharacters, sentenceLength)\n",
    "\n",
    "# Keep asking the user to input the longest sentence they can without the character “A”.\n",
    "# Each time a user successfully sets a new longest sentence, print a congratulations message."
   ]
  },
  {
   "cell_type": "code",
   "execution_count": null,
   "id": "5a262cca",
   "metadata": {},
   "outputs": [],
   "source": []
  }
 ],
 "metadata": {
  "kernelspec": {
   "display_name": "Python 3",
   "language": "python",
   "name": "python3"
  },
  "language_info": {
   "codemirror_mode": {
    "name": "ipython",
    "version": 3
   },
   "file_extension": ".py",
   "mimetype": "text/x-python",
   "name": "python",
   "nbconvert_exporter": "python",
   "pygments_lexer": "ipython3",
   "version": "3.13.3"
  }
 },
 "nbformat": 4,
 "nbformat_minor": 5
}
