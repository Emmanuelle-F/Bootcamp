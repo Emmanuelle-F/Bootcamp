{
 "cells": [
  {
   "cell_type": "code",
   "execution_count": 3,
   "id": "f6033e16",
   "metadata": {},
   "outputs": [
    {
     "name": "stdout",
     "output_type": "stream",
     "text": [
      "Hello World\n",
      "Hello World\n",
      "Hello World\n",
      "Hello World\n",
      "\n"
     ]
    }
   ],
   "source": [
    "# Exercise 1\n",
    "\n",
    "print (\"Hello World\\n\" * 4)"
   ]
  },
  {
   "cell_type": "code",
   "execution_count": 1,
   "id": "4f212f13",
   "metadata": {},
   "outputs": [
    {
     "name": "stdout",
     "output_type": "stream",
     "text": [
      "7762392\n"
     ]
    }
   ],
   "source": [
    "# Exercise 2\n",
    "num = (99**3)*8 \n",
    "\n",
    "print (num)"
   ]
  },
  {
   "cell_type": "code",
   "execution_count": null,
   "id": "d6d9f72c",
   "metadata": {},
   "outputs": [],
   "source": [
    "# Exercise 3\n",
    "\n",
    "#  5 < 3  => False\n",
    "#  3 == 3  => True\n",
    "#  3 == \"3\"  => False\n",
    "#  \"3\" > 3  => Error\n",
    "#  \"Hello\" == \"hello\"  => False"
   ]
  },
  {
   "cell_type": "code",
   "execution_count": null,
   "id": "720eab1d",
   "metadata": {},
   "outputs": [
    {
     "name": "stdout",
     "output_type": "stream",
     "text": [
      "I have an Asus computer.\n"
     ]
    }
   ],
   "source": [
    "# Exercise 4\n",
    "\n",
    "computerBrand = \"Asus\"\n",
    "\n",
    "print (f\"I have an {computerBrand} computer.\")"
   ]
  },
  {
   "cell_type": "code",
   "execution_count": null,
   "id": "6bf4f703",
   "metadata": {},
   "outputs": [
    {
     "name": "stdout",
     "output_type": "stream",
     "text": [
      "My name is Emmanuelle Frappier, I am 25 years old and my shoe size is 37\n"
     ]
    }
   ],
   "source": [
    "# Exercise 5\n",
    "\n",
    "name = \"Emmanuelle Frappier\"\n",
    "age = 25\n",
    "shoeSize = 37\n",
    "info = f\"My name is {name}, I am {age} years old and my shoe size is {shoeSize}.\"\n",
    "\n",
    "print(info)"
   ]
  },
  {
   "cell_type": "code",
   "execution_count": null,
   "id": "39121561",
   "metadata": {},
   "outputs": [],
   "source": [
    "# Exercise 6\n",
    "\n",
    "varA = 15\n",
    "varB = 35\n",
    "\n",
    "if varB > varA:\n",
    "    print(\"Hello World\")"
   ]
  },
  {
   "cell_type": "code",
   "execution_count": 24,
   "id": "6641907c",
   "metadata": {},
   "outputs": [
    {
     "name": "stdout",
     "output_type": "stream",
     "text": [
      "The number 13 is odd\n"
     ]
    }
   ],
   "source": [
    "# Exercise 7\n",
    "\n",
    "number = int(input(\"Enter a number\"))\n",
    "\n",
    "remainder = number % 2\n",
    "\n",
    "if remainder == 0:\n",
    "    print(f\"The number {number} is even\")\n",
    "else:\n",
    "    print(f\"The number {number} is odd\")\n"
   ]
  },
  {
   "cell_type": "code",
   "execution_count": 28,
   "id": "3be56d9e",
   "metadata": {},
   "outputs": [
    {
     "name": "stdout",
     "output_type": "stream",
     "text": [
      "Nice to meet you tom\n"
     ]
    }
   ],
   "source": [
    "# Exercise 8\n",
    "\n",
    "myName = \"Emmanuelle\"\n",
    "\n",
    "userName = input(\"Enter your name\")\n",
    "\n",
    "userName = userName.strip().lower()\n",
    "\n",
    "if userName == myName.lower():\n",
    "    print (\"Wohoo! we have the same name\")\n",
    "else:\n",
    "    print (f\"Nice to meet you {userName}\")\n"
   ]
  },
  {
   "cell_type": "code",
   "execution_count": 37,
   "id": "cdfffe27",
   "metadata": {},
   "outputs": [
    {
     "name": "stdout",
     "output_type": "stream",
     "text": [
      "You are tall enough to ride the rollder coaster\n"
     ]
    }
   ],
   "source": [
    "# Exercise 9 : Tall enough to ride a roller coaster\n",
    "\n",
    "UserHeight = input(\"Enter your height in cm\")\n",
    "\n",
    "UserHeight = UserHeight.replace(\"cm\", \"\").strip()\n",
    "\n",
    "if int(UserHeight) > 145:\n",
    "    print(\"You are tall enough to ride the rollder coaster\")\n",
    "else:\n",
    "    print(\"Sorry! You will need to grow some more to ride\")"
   ]
  },
  {
   "cell_type": "code",
   "execution_count": null,
   "id": "895d6544",
   "metadata": {},
   "outputs": [],
   "source": []
  }
 ],
 "metadata": {
  "kernelspec": {
   "display_name": "Python 3",
   "language": "python",
   "name": "python3"
  },
  "language_info": {
   "codemirror_mode": {
    "name": "ipython",
    "version": 3
   },
   "file_extension": ".py",
   "mimetype": "text/x-python",
   "name": "python",
   "nbconvert_exporter": "python",
   "pygments_lexer": "ipython3",
   "version": "3.13.3"
  }
 },
 "nbformat": 4,
 "nbformat_minor": 5
}
