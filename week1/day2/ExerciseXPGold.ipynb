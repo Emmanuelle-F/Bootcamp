{
 "cells": [
  {
   "cell_type": "code",
   "execution_count": null,
   "id": "05949f65",
   "metadata": {},
   "outputs": [
    {
     "name": "stdout",
     "output_type": "stream",
     "text": [
      "Hello World\n",
      "Hello World\n",
      "Hello World\n",
      "Hello World\n",
      "I love python\n",
      "I love python\n",
      "I love python\n",
      "I love python\n",
      "\n"
     ]
    }
   ],
   "source": [
    "# Exercise 1 : Hello World-I love Python\n",
    "\n",
    "print (\"Hello World\\n\" * 4 + \"I love python\\n\" * 4)\n"
   ]
  },
  {
   "cell_type": "code",
   "execution_count": 6,
   "id": "7e4bb8b7",
   "metadata": {},
   "outputs": [
    {
     "name": "stdout",
     "output_type": "stream",
     "text": [
      "Invalid Month\n"
     ]
    }
   ],
   "source": [
    "# Exercise 2 : What is the month ?\n",
    "\n",
    "month = int(input(\"Enter your current month (1 to 12)\").strip())\n",
    "\n",
    "if  3 <= month <= 5:\n",
    "    print(\"Spring runs from March (3) to May (5)\")\n",
    "elif 6 <= month <= 8:\n",
    "    print(\"Summer runs from June (6) to August (8)\")\n",
    "elif 9 <= month <= 11:\n",
    "    print(\"Autumn runs from September (9) to November (11)\")\n",
    "elif month == 12 or 1 <= month <=2:\n",
    "    print(\"Winter runs from December (12) to February (2)\")\n",
    "else:\n",
    "    print(\"Invalid Month\")"
   ]
  },
  {
   "cell_type": "code",
   "execution_count": null,
   "id": "294034dd",
   "metadata": {},
   "outputs": [],
   "source": []
  }
 ],
 "metadata": {
  "kernelspec": {
   "display_name": "Python 3",
   "language": "python",
   "name": "python3"
  },
  "language_info": {
   "codemirror_mode": {
    "name": "ipython",
    "version": 3
   },
   "file_extension": ".py",
   "mimetype": "text/x-python",
   "name": "python",
   "nbconvert_exporter": "python",
   "pygments_lexer": "ipython3",
   "version": "3.13.3"
  }
 },
 "nbformat": 4,
 "nbformat_minor": 5
}
