{
 "cells": [
  {
   "cell_type": "code",
   "execution_count": null,
   "id": "2a1d1b47",
   "metadata": {},
   "outputs": [],
   "source": [
    "# sort => sort the existing list\n",
    "# how to use: sort the list first, then use it\n",
    "list1 = [10, 5, 1, 4, 45]\n",
    "\n",
    "list1.sort() # in ascending order\n",
    "print(list1)\n",
    "\n",
    "list1.sort(reverse=True) # in descending order\n",
    "print(list1)"
   ]
  },
  {
   "cell_type": "code",
   "execution_count": null,
   "id": "0c815294",
   "metadata": {},
   "outputs": [],
   "source": [
    "# sorted => create a new list then sort it, keeps the initial list as is\n",
    "\n",
    "list2 = [15, 9, 4, 2, 0]\n",
    "\n",
    "print(f\"Initial List: \",list2)  # initial list\n",
    "print(f\"New list in ascending order: \",sorted(list2)) # in ascending order\n",
    "print(f\"New list in descending order: \",sorted(list2, reverse=True)) # in descending order"
   ]
  }
 ],
 "metadata": {
  "language_info": {
   "name": "python"
  }
 },
 "nbformat": 4,
 "nbformat_minor": 5
}
