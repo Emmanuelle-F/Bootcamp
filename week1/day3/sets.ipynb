{
 "cells": [
  {
   "cell_type": "code",
   "execution_count": null,
   "id": "ad728226",
   "metadata": {},
   "outputs": [],
   "source": [
    "# Characteristics of a set\n",
    "\n",
    "# unordered => cannot be accessed using its index\n",
    "# can be changed (mutable)\n",
    "# do not allow duplicates => can be used to get unique values"
   ]
  },
  {
   "cell_type": "code",
   "execution_count": null,
   "id": "bd77531d",
   "metadata": {},
   "outputs": [],
   "source": []
  }
 ],
 "metadata": {
  "language_info": {
   "name": "python"
  }
 },
 "nbformat": 4,
 "nbformat_minor": 5
}
