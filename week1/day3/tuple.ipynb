{
 "cells": [
  {
   "cell_type": "code",
   "execution_count": null,
   "id": "2098bb23",
   "metadata": {},
   "outputs": [],
   "source": [
    "# Characteristics of a tuple\n",
    "\n",
    "# ordered => can be accessed using its index\n",
    "# cannot be changed (immutable)\n",
    "# allow duplicates"
   ]
  },
  {
   "cell_type": "code",
   "execution_count": null,
   "id": "b2032501",
   "metadata": {},
   "outputs": [
    {
     "name": "stdout",
     "output_type": "stream",
     "text": [
      "3\n"
     ]
    }
   ],
   "source": [
    "myTuple = (1,2,3,4)\n",
    "\n",
    "print(myTuple.index(4))  # .index() returns the position of the element 4"
   ]
  },
  {
   "cell_type": "code",
   "execution_count": null,
   "id": "eab20faf",
   "metadata": {},
   "outputs": [
    {
     "name": "stdout",
     "output_type": "stream",
     "text": [
      "3\n"
     ]
    }
   ],
   "source": [
    "myTuple = (1,2,3,4,4,4)\n",
    "\n",
    "print(myTuple.count(4)) # count returns the number of occurences of an element"
   ]
  },
  {
   "cell_type": "code",
   "execution_count": null,
   "id": "0393b829",
   "metadata": {},
   "outputs": [
    {
     "name": "stdout",
     "output_type": "stream",
     "text": [
      "2\n"
     ]
    }
   ],
   "source": [
    "print(myTuple[1])  # access the value of index 1"
   ]
  }
 ],
 "metadata": {
  "kernelspec": {
   "display_name": "Python 3",
   "language": "python",
   "name": "python3"
  },
  "language_info": {
   "codemirror_mode": {
    "name": "ipython",
    "version": 3
   },
   "file_extension": ".py",
   "mimetype": "text/x-python",
   "name": "python",
   "nbconvert_exporter": "python",
   "pygments_lexer": "ipython3",
   "version": "3.13.3"
  }
 },
 "nbformat": 4,
 "nbformat_minor": 5
}
