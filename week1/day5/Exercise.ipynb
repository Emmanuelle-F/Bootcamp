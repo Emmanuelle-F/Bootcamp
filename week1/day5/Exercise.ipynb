{
 "cells": [
  {
   "cell_type": "code",
   "execution_count": null,
   "id": "79e3629e",
   "metadata": {},
   "outputs": [
    {
     "name": "stdout",
     "output_type": "stream",
     "text": [
      "{'Ten': 10, 'Twenty': 20, 'Thirty': 30}\n"
     ]
    }
   ],
   "source": [
    "# Exercise 1: Converting Lists into Dictionaries\n",
    "\n",
    "keys = ['Ten', 'Twenty', 'Thirty']\n",
    "values = [10, 20, 30]\n",
    "\n",
    "myDict = dict(zip(keys, values))\n",
    "\n",
    "print(myDict)\n"
   ]
  },
  {
   "cell_type": "code",
   "execution_count": null,
   "id": "06dc175c",
   "metadata": {},
   "outputs": [],
   "source": [
    "# Exercise 2: Cinemax #2\n",
    "\n",
    "totalCost = 0\n",
    "\n",
    "family = {\"rick\": 43, 'beth': 13, 'morty': 5, 'summer': 8}\n",
    "\n",
    "for member, age in family.items():\n",
    "    if age < 3:\n",
    "        print(f\"{member} paid $0\")\n",
    "    elif 3 < age <= 12:\n",
    "        print(f\"{member} paid $10\")\n",
    "        totalCost += 10\n",
    "    else:\n",
    "        print(f\"{member} paid $15\")\n",
    "        totalCost += 15\n",
    "\n",
    "print (f\"Total cost is ${totalCost}\")\n"
   ]
  },
  {
   "cell_type": "code",
   "execution_count": null,
   "id": "9672449e",
   "metadata": {},
   "outputs": [
    {
     "name": "stdout",
     "output_type": "stream",
     "text": [
      "{'name': 'Zara', 'creationDate': 1975, 'creatorName': 'Amancio Ortega Gaona', 'clothesType': ['men', 'women', 'children', 'home'], 'internationalCompetitors': ['Gap', 'H&M', 'Benetton'], 'numberStores': 7000, 'majorColor': {'France': 'blue', 'Spain': 'red', 'US': ['pink', 'green']}}\n",
      "Zara’s clients include men, women, children, home.\n",
      "s\n",
      "['pink', 'green']\n",
      "7\n",
      "dict_keys(['name', 'creatorName', 'clothesType', 'internationalCompetitors', 'numberStores', 'majorColor', 'country'])\n",
      "{'name': 'Zara', 'creatorName': 'Amancio Ortega Gaona', 'clothesType': ['men', 'women', 'children', 'home'], 'internationalCompetitors': 'Desigual', 'numberStores': 200, 'majorColor': {'France': 'blue', 'Spain': 'red', 'US': ['pink', 'green']}, 'country': 'Spain', 'creationDate': 1975}\n"
     ]
    }
   ],
   "source": [
    "# Exercise 3: Zara\n",
    "\n",
    "brand = {\n",
    "    \"name\": \"Zara\",\n",
    "    \"creationDate\" : 1975, \n",
    "    \"creatorName\" : \"Amancio Ortega Gaona\", \n",
    "    \"clothesType\" : [\"men\", \"women\", \"children\", \"home\"], \n",
    "    \"internationalCompetitors\" : [\"Gap\", \"H&M\", \"Benetton\"],\n",
    "    \"numberStores\": 7000,\n",
    "    \"majorColor\": {\"France\" : \"blue\", \"Spain\" : \"red\", \"US\" : [\"pink\", \"green\"]}\n",
    "    }\n",
    "\n",
    "print (brand)\n",
    "\n",
    "brand[\"numberStores\"] = 2\n",
    "\n",
    "print(f\"Zara’s clients include {', '.join(brand['clothesType'])}.\")\n",
    "\n",
    "brand[\"country\"] = \"Spain\"\n",
    "\n",
    "if \"internationalCompetitors\" in brand:\n",
    "    brand[\"internationalCompetitors\"] = \"Desigual\"\n",
    "\n",
    "del brand[\"creationDate\"]\n",
    "\n",
    "print (brand[\"internationalCompetitors\"][2])\n",
    "\n",
    "print (brand[\"majorColor\"][\"US\"])\n",
    "\n",
    "print (len(brand.keys()))\n",
    "\n",
    "print (brand.keys())\n",
    "\n",
    "moreOnZara = {\"creationDate\" : 1975, \"numberStores\" : 200}\n",
    "\n",
    "brand.update(moreOnZara)\n",
    "\n",
    "print (brand)\n"
   ]
  },
  {
   "cell_type": "code",
   "execution_count": null,
   "id": "d5b8631e",
   "metadata": {},
   "outputs": [
    {
     "name": "stdout",
     "output_type": "stream",
     "text": [
      "{'Mickey': 0, 'Minnie': 1, 'Donald': 2, 'Ariel': 3, 'Pluto': 4}\n",
      "{0: 'Mickey', 1: 'Minnie', 2: 'Donald', 3: 'Ariel', 4: 'Pluto'}\n",
      "{'Ariel': 0, 'Donald': 1, 'Mickey': 2, 'Minnie': 3, 'Pluto': 4}\n"
     ]
    }
   ],
   "source": [
    "# Exercise 4: Disney Characters\n",
    "\n",
    "users = [\"Mickey\", \"Minnie\", \"Donald\", \"Ariel\", \"Pluto\"]\n",
    "\n",
    "dictionary1 = {}\n",
    "dictionary2 = {}\n",
    "dictionary3 = {}\n",
    "\n",
    "dictionary1 = {name: index for index, name in enumerate(users)}\n",
    "print(dictionary1)\n",
    "\n",
    "\n",
    "dictionary2 = {index: name for index, name in enumerate(users)}\n",
    "print(dictionary2)\n",
    "\n",
    "users.sort()\n",
    "\n",
    "dictionary3 = {name: index for index, name in enumerate(users)}\n",
    "print(dictionary3)\n"
   ]
  }
 ],
 "metadata": {
  "kernelspec": {
   "display_name": "Python 3",
   "language": "python",
   "name": "python3"
  },
  "language_info": {
   "codemirror_mode": {
    "name": "ipython",
    "version": 3
   },
   "file_extension": ".py",
   "mimetype": "text/x-python",
   "name": "python",
   "nbconvert_exporter": "python",
   "pygments_lexer": "ipython3",
   "version": "3.13.3"
  }
 },
 "nbformat": 4,
 "nbformat_minor": 5
}
