{
 "cells": [
  {
   "cell_type": "code",
   "execution_count": 7,
   "id": "d50d02dc",
   "metadata": {},
   "outputs": [
    {
     "name": "stdout",
     "output_type": "stream",
     "text": [
      "18,22,24\n"
     ]
    }
   ],
   "source": [
    "# Exercise 1: Formula\n",
    "import math\n",
    "\n",
    "C = 50\n",
    "H = 30\n",
    "results = []\n",
    "\n",
    "numbers = input (\"Please input a sequenece of numbers separated by comma\")\n",
    "\n",
    "numbersList = numbers.split(',')\n",
    "\n",
    "for num in numbersList:\n",
    "    D = int(num)\n",
    "    Q = round(math.sqrt((2 * C * D) / H))\n",
    "    results.append(str(Q))\n",
    "\n",
    "print(','.join(results))\n",
    "    "
   ]
  },
  {
   "cell_type": "code",
   "execution_count": null,
   "id": "f99c46df",
   "metadata": {},
   "outputs": [],
   "source": [
    "# Exercise 2 : List of integers\n",
    "# Instructions\n",
    "# Given a list of 10 integers to analyze. For example:\n",
    "\n",
    "#     [3, 47, 99, -80, 22, 97, 54, -23, 5, 7] \n",
    "#     [44, 91, 8, 24, -6, 0, 56, 8, 100, 2] \n",
    "#     [3, 21, 76, 53, 9, -82, -3, 49, 1, 76] \n",
    "#     [18, 19, 2, 56, 33, 17, 41, -63, -82, 1]\n",
    "\n",
    "\n",
    "# 1. Store the list of numbers in a variable.\n",
    "\n",
    "# 2. Print the following information:\n",
    "# a. The list of numbers – printed in a single line\n",
    "# b. The list of numbers – sorted in descending order (largest to smallest)\n",
    "# c. The sum of all the numbers\n",
    "\n",
    "# 3. A list containing the first and the last numbers.\n",
    "\n",
    "# 4. A list of all the numbers greater than 50.\n",
    "\n",
    "# 5. A list of all the numbers smaller than 10.\n",
    "\n",
    "# 6. A list of all the numbers squared – eg. for [1, 2, 3] you would print “1 4 9”.\n",
    "\n",
    "# 7. The numbers without any duplicates – also print how many numbers are in the new list.\n",
    "\n",
    "# 8. The average of all the numbers.\n",
    "\n",
    "# 9. The largest number.\n",
    "\n",
    "# 10.The smallest number.\n",
    "\n",
    "# 11. Bonus: Find the sum, average, largest and smallest number without using built in functions.\n",
    "\n",
    "# 12. Bonus: Instead of using pre-defined lists of numbers, ask the user for 10 numbers between -100 and 100. Ask the user for an integer between -100 and 100 – repeat this question 10 times. Each number should be added into a variable that you created earlier.\n",
    "\n",
    "# 13. Bonus: Instead of asking the user for 10 integers, generate 10 random integers yourself. Make sure that these random integers are between -100 and 100.\n",
    "\n",
    "# 14. Bonus: Instead of always generating 10 integers, let the amount of integers also be random! Generate a random positive integer no smaller than 50.\n",
    "\n",
    "# 15. Bonus: Will the code work when the number of random numbers is not equal to 10?"
   ]
  }
 ],
 "metadata": {
  "kernelspec": {
   "display_name": "Python 3",
   "language": "python",
   "name": "python3"
  },
  "language_info": {
   "codemirror_mode": {
    "name": "ipython",
    "version": 3
   },
   "file_extension": ".py",
   "mimetype": "text/x-python",
   "name": "python",
   "nbconvert_exporter": "python",
   "pygments_lexer": "ipython3",
   "version": "3.13.3"
  }
 },
 "nbformat": 4,
 "nbformat_minor": 5
}
