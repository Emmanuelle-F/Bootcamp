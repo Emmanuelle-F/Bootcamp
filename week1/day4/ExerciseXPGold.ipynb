{
 "cells": [
  {
   "cell_type": "code",
   "execution_count": null,
   "id": "5d38602c",
   "metadata": {},
   "outputs": [
    {
     "name": "stdout",
     "output_type": "stream",
     "text": [
      "Combined list: [1, 3, 5, 7, 9, 2, 4, 6, 8, 10]\n"
     ]
    }
   ],
   "source": [
    "# Exercise 1: Concatenate lists\n",
    "\n",
    "list1 = [1, 3, 5, 7, 9]\n",
    "list2 = [2, 4, 6, 8, 10]\n",
    "\n",
    "for item in list2:\n",
    "    list1.append(item)\n",
    "\n",
    "print (f\"Combined list: {list1}\")"
   ]
  },
  {
   "cell_type": "code",
   "execution_count": null,
   "id": "fae81388",
   "metadata": {},
   "outputs": [],
   "source": [
    "# Exercise 2: Range of numbers\n",
    "\n",
    "for number in range (1500, 2500):\n",
    "    if number % 5 == 0 or number % 7 == 0: \n",
    "        print (number)"
   ]
  },
  {
   "cell_type": "code",
   "execution_count": null,
   "id": "1421c10e",
   "metadata": {},
   "outputs": [
    {
     "name": "stdout",
     "output_type": "stream",
     "text": [
      "First index:  1\n"
     ]
    }
   ],
   "source": [
    "# Exercise 3: Check the index\n",
    "\n",
    "names = ['Samus', 'Cortana', 'V', 'Link', 'Mario', 'Cortana', 'Samus']\n",
    "\n",
    "userName = input (\"Please enter your name\")\n",
    "\n",
    "if userName in names :\n",
    "    firstIndex = names.index(userName)\n",
    "    print (\"First index: \", firstIndex)"
   ]
  },
  {
   "cell_type": "code",
   "execution_count": null,
   "id": "b3964bd7",
   "metadata": {},
   "outputs": [
    {
     "name": "stdout",
     "output_type": "stream",
     "text": [
      "Greatest number: 78\n"
     ]
    }
   ],
   "source": [
    "# Exercise 4: Greatest Number\n",
    "numbers = []\n",
    "\n",
    "for number in range (0,3):\n",
    "    number = int(input(\"Please enter a number\"))\n",
    "    numbers.append(number)\n",
    "\n",
    "numbers.sort(reverse = True)\n",
    "\n",
    "print (\"Greatest number:\", numbers[0])"
   ]
  },
  {
   "cell_type": "code",
   "execution_count": null,
   "id": "4204a8ca",
   "metadata": {},
   "outputs": [],
   "source": [
    "# Exercise 5: The Alphabet\n",
    "\n",
    "alphabets = [\"a\",\"b\",\"c\",\"d\",\"e\",\"f\",\"g\",\"h\",\"i\",\"j\",\"k\",\"l\",\"m\",\"n\",\"o\",\"p\",\"q\",\"r\",\"s\",\"t\",\"u\",\"v\",\"w\",\"x\",\"y\",\"z\"]\n",
    "\n",
    "vowels = \"aeiou\"\n",
    "\n",
    "for letter in alphabets:\n",
    "    if letter in vowels:\n",
    "        print(f\"{letter} is a vowel.\")\n",
    "    else:\n",
    "        print(f\"{letter} is a consonant.\")\n"
   ]
  },
  {
   "cell_type": "code",
   "execution_count": null,
   "id": "fab50865",
   "metadata": {},
   "outputs": [],
   "source": [
    "# Exercise 6: Words and letters\n",
    "words = []\n",
    "x = \"\"\n",
    "\n",
    "for i in range (1,8):\n",
    "    userInput = input (\"Please enter a word\")\n",
    "    words.append(userInput)\n",
    "\n",
    "letter = input (\"Please enter a charcater\")\n",
    "\n",
    "for word in words:\n",
    "    if letter in word:\n",
    "        print(f\"Index of letter {letter} in word {word}: {word.index(letter)}\")\n",
    "    else:\n",
    "        print(f\"The letter '{letter}' is not found in the word '{word}'.\")\n"
   ]
  },
  {
   "cell_type": "code",
   "execution_count": null,
   "id": "2b6e47c3",
   "metadata": {},
   "outputs": [
    {
     "name": "stdout",
     "output_type": "stream",
     "text": [
      "Minimum number: 1\n",
      "Maximum number: 1000000\n",
      "sum: 500000500000\n"
     ]
    }
   ],
   "source": [
    "# Exercise 7: Min, Max, Sum\n",
    "\n",
    "numbers = []\n",
    "\n",
    "for num in range (1,1000001):\n",
    "    numbers.append(num)\n",
    "\n",
    "print(f\"Minimum number: {min(numbers)}\")\n",
    "\n",
    "print(f\"Maximum number: {max(numbers)}\")\n",
    "\n",
    "print(f\"sum: {sum(numbers)}\")\n"
   ]
  },
  {
   "cell_type": "code",
   "execution_count": null,
   "id": "23b8e9a5",
   "metadata": {},
   "outputs": [
    {
     "name": "stdout",
     "output_type": "stream",
     "text": [
      "['1', '2', '3', '4', '5']\n",
      "('1', '2', '3', '4', '5')\n"
     ]
    }
   ],
   "source": [
    "# Exercise 8 : List and Tuple\n",
    "\n",
    "numbers = input(\"Please enter a sequence of numbers separated with comma\")\n",
    "\n",
    "numberList = numbers.split(',')\n",
    "print(numberList)\n",
    "\n",
    "numberTuple = tuple(numberList)\n",
    "print(numberTuple)\n",
    "\n"
   ]
  },
  {
   "cell_type": "code",
   "execution_count": null,
   "id": "cd1982f2",
   "metadata": {},
   "outputs": [],
   "source": [
    "# Exercise 9 : Random number\n",
    "import random\n",
    "\n",
    "wonGame = 0\n",
    "lostGame = 0\n",
    "\n",
    "while True:\n",
    "\n",
    "    number = input(\"Please enter a number from 1 to 9\")\n",
    "\n",
    "    if number == \"quit\":\n",
    "        print (f\"Total Games Won: {wonGame} and Total Games Lost: {lostGame}\")\n",
    "        break\n",
    "    else:\n",
    "        randomNumber = random.randint(1, 5)\n",
    "\n",
    "        if int(number) == randomNumber:\n",
    "            wonGame +=1\n",
    "            print (\"Winner\")\n",
    "        else:\n",
    "            print (\"Better luck next time\")\n",
    "            lostGame +=1\n"
   ]
  },
  {
   "cell_type": "code",
   "execution_count": null,
   "id": "75f3cbdf",
   "metadata": {},
   "outputs": [],
   "source": []
  }
 ],
 "metadata": {
  "kernelspec": {
   "display_name": "Python 3",
   "language": "python",
   "name": "python3"
  },
  "language_info": {
   "codemirror_mode": {
    "name": "ipython",
    "version": 3
   },
   "file_extension": ".py",
   "mimetype": "text/x-python",
   "name": "python",
   "nbconvert_exporter": "python",
   "pygments_lexer": "ipython3",
   "version": "3.13.3"
  }
 },
 "nbformat": 4,
 "nbformat_minor": 5
}
