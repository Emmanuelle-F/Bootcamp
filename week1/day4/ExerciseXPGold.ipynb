{
 "cells": [
  {
   "cell_type": "code",
   "execution_count": null,
   "id": "5d38602c",
   "metadata": {},
   "outputs": [
    {
     "name": "stdout",
     "output_type": "stream",
     "text": [
      "Combined list: [1, 3, 5, 7, 9, 2, 4, 6, 8, 10]\n"
     ]
    }
   ],
   "source": [
    "# Exercise 1: Concatenate lists\n",
    "\n",
    "list1 = [1, 3, 5, 7, 9]\n",
    "list2 = [2, 4, 6, 8, 10]\n",
    "\n",
    "for item in list2:\n",
    "    list1.append(item)\n",
    "\n",
    "print (f\"Combined list: {list1}\")"
   ]
  },
  {
   "cell_type": "code",
   "execution_count": null,
   "id": "fae81388",
   "metadata": {},
   "outputs": [],
   "source": [
    "# Exercise 2: Range of numbers\n",
    "\n",
    "for number in range (1500, 2500):\n",
    "    if number % 5 == 0 or number % 7 == 0: \n",
    "        print (number)"
   ]
  },
  {
   "cell_type": "code",
   "execution_count": null,
   "id": "1421c10e",
   "metadata": {},
   "outputs": [
    {
     "name": "stdout",
     "output_type": "stream",
     "text": [
      "First index:  1\n"
     ]
    }
   ],
   "source": [
    "# Exercise 3: Check the index\n",
    "\n",
    "names = ['Samus', 'Cortana', 'V', 'Link', 'Mario', 'Cortana', 'Samus']\n",
    "\n",
    "userName = input (\"Please enter your name\")\n",
    "\n",
    "if userName in names :\n",
    "    firstIndex = names.index(userName)\n",
    "    print (\"First index: \", firstIndex)"
   ]
  },
  {
   "cell_type": "code",
   "execution_count": null,
   "id": "b3964bd7",
   "metadata": {},
   "outputs": [
    {
     "name": "stdout",
     "output_type": "stream",
     "text": [
      "Greatest number: 78\n"
     ]
    }
   ],
   "source": [
    "# Exercise 4: Greatest Number\n",
    "numbers = []\n",
    "\n",
    "for number in range (0,3):\n",
    "    number = int(input(\"Please enter a number\"))\n",
    "    numbers.append(number)\n",
    "\n",
    "numbers.sort(reverse = True)\n",
    "\n",
    "print (\"Greatest number:\", numbers[0])"
   ]
  },
  {
   "cell_type": "code",
   "execution_count": null,
   "id": "4204a8ca",
   "metadata": {},
   "outputs": [],
   "source": [
    "# Exercise 5: The Alphabet\n",
    "\n",
    "alphabets = [\"a\",\"b\",\"c\",\"d\",\"e\",\"f\",\"g\",\"h\",\"i\",\"j\",\"k\",\"l\",\"m\",\"n\",\"o\",\"p\",\"q\",\"r\",\"s\",\"t\",\"u\",\"v\",\"w\",\"x\",\"y\",\"z\"]\n",
    "\n",
    "vowels = \"aeiou\"\n",
    "\n",
    "for letter in alphabets:\n",
    "    if letter in vowels:\n",
    "        print(f\"{letter} is a vowel.\")\n",
    "    else:\n",
    "        print(f\"{letter} is a consonant.\")\n"
   ]
  },
  {
   "cell_type": "code",
   "execution_count": null,
   "id": "fab50865",
   "metadata": {},
   "outputs": [],
   "source": [
    "# Exercise 6: Words and letters\n",
    "# Instructions\n",
    "# Ask a user for 7 words, store them in a list named words.\n",
    "# Ask the user for a single character, store it in a variable called letter.\n",
    "# Loop through the words list and print the index of the first appearence of the letter variable in each word of the list.\n",
    "# If the letter doesn’t exist in one of the words, print a friendly message with the word and the letter."
   ]
  }
 ],
 "metadata": {
  "kernelspec": {
   "display_name": "Python 3",
   "language": "python",
   "name": "python3"
  },
  "language_info": {
   "codemirror_mode": {
    "name": "ipython",
    "version": 3
   },
   "file_extension": ".py",
   "mimetype": "text/x-python",
   "name": "python",
   "nbconvert_exporter": "python",
   "pygments_lexer": "ipython3",
   "version": "3.13.3"
  }
 },
 "nbformat": 4,
 "nbformat_minor": 5
}
