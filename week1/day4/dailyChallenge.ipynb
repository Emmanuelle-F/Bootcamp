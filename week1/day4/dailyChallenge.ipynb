{
 "cells": [
  {
   "cell_type": "code",
   "execution_count": null,
   "id": "825c5408",
   "metadata": {},
   "outputs": [
    {
     "name": "stdout",
     "output_type": "stream",
     "text": [
      "Number: 17\n",
      "Length: 6\n",
      "[17, 34, 51, 68, 85, 102]\n"
     ]
    }
   ],
   "source": [
    "# Challenge 1: Multiples of a Number\n",
    "\n",
    "number = int(input (\"Please enter a number\"))\n",
    "length = int(input (\"Please enter a length\"))\n",
    "\n",
    "i = 0\n",
    "j = 1\n",
    "multiplesList = []\n",
    "\n",
    "while i != length:\n",
    "    multiple = number * j\n",
    "    multiplesList.append(multiple)\n",
    "    i +=1\n",
    "    j +=1\n",
    "\n",
    "print(f\"Number: {number}\")\n",
    "print(f\"Length: {length}\")\n",
    "print(multiplesList)\n"
   ]
  },
  {
   "cell_type": "code",
   "execution_count": null,
   "id": "9ec27684",
   "metadata": {},
   "outputs": [],
   "source": [
    "# Challenge 2: Remove Consecutive Duplicate Letters\n",
    "\n",
    "\n",
    "# Key Python Topics:\n",
    "# input() function\n",
    "# Strings and string manipulation\n",
    "# Loops (for or while)\n",
    "# Conditional statements (if)\n",
    "\n",
    "\n",
    "# Instructions:\n",
    "# 1. Ask the user for a string.\n",
    "# 2. Write a program that processes the string to remove consecutive duplicate letters.\n",
    "\n",
    "# The new string should only contain unique consecutive letters.\n",
    "# For example, “ppoeemm” should become “poem” (removes consecutive duplicates like ‘pp’, ‘ee’, and ‘mm’).\n",
    "# 3. The program should print the modified string.\n",
    "\n",
    "\n",
    "\n",
    "# Example 1:\n",
    "\n",
    "# Input:\n",
    "# user’s word: \"ppoeemm\"\n",
    "# Output:\n",
    "# \"poem\"\n",
    "\n",
    "\n",
    "\n",
    "# Example 2:\n",
    "\n",
    "# Input:\n",
    "# user’s word: \"wiiiinnnnd\"\n",
    "# Output:\n",
    "# \"wind\"\n",
    "\n",
    "\n",
    "\n",
    "# Example 3:\n",
    "\n",
    "# Input:\n",
    "# user’s word: \"ttiiitllleeee\"\n",
    "# Output:\n",
    "# \"title\"\n",
    "\n",
    "\n",
    "\n",
    "# Example 4:\n",
    "\n",
    "# Input:\n",
    "# user’s word: \"cccccaaarrrbbonnnnn\"\n",
    "# Output:\n",
    "# \"carbon\"\n",
    "\n",
    "\n",
    "\n",
    "# Notes:\n",
    "# The final string will not include any consecutive duplicates, but non-consecutive duplicates are allowed.\n",
    "# Example: In \"carbon\", the two ‘r’s are allowed because they are not consecutive."
   ]
  }
 ],
 "metadata": {
  "kernelspec": {
   "display_name": "Python 3",
   "language": "python",
   "name": "python3"
  },
  "language_info": {
   "codemirror_mode": {
    "name": "ipython",
    "version": 3
   },
   "file_extension": ".py",
   "mimetype": "text/x-python",
   "name": "python",
   "nbconvert_exporter": "python",
   "pygments_lexer": "ipython3",
   "version": "3.13.3"
  }
 },
 "nbformat": 4,
 "nbformat_minor": 5
}
