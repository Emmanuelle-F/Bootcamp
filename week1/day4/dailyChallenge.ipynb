{
 "cells": [
  {
   "cell_type": "code",
   "execution_count": null,
   "id": "825c5408",
   "metadata": {},
   "outputs": [
    {
     "name": "stdout",
     "output_type": "stream",
     "text": [
      "Number: 17\n",
      "Length: 6\n",
      "[17, 34, 51, 68, 85, 102]\n"
     ]
    }
   ],
   "source": [
    "# Challenge 1: Multiples of a Number\n",
    "\n",
    "number = int(input (\"Please enter a number\"))\n",
    "length = int(input (\"Please enter a length\"))\n",
    "\n",
    "i = 0\n",
    "j = 1\n",
    "multiplesList = []\n",
    "\n",
    "while i != length:\n",
    "    multiple = number * j\n",
    "    multiplesList.append(multiple)\n",
    "    i +=1\n",
    "    j +=1\n",
    "\n",
    "print(f\"Number: {number}\")\n",
    "print(f\"Length: {length}\")\n",
    "print(multiplesList)\n"
   ]
  },
  {
   "cell_type": "code",
   "execution_count": null,
   "id": "9ec27684",
   "metadata": {},
   "outputs": [],
   "source": [
    "# Challenge 2: Remove Consecutive Duplicate Letters\n",
    "\n",
    "userInput = input (\"Please enter a string\")\n",
    "result = \"\"\n",
    "\n",
    "for i in range(len(userInput)):\n",
    "    if i == 0 or userInput[i] != userInput[i - 1]:\n",
    "        result += userInput[i]\n",
    "        print(result)\n",
    "\n",
    "\n",
    "print(\"Modified string:\", result)"
   ]
  }
 ],
 "metadata": {
  "kernelspec": {
   "display_name": "Python 3",
   "language": "python",
   "name": "python3"
  },
  "language_info": {
   "codemirror_mode": {
    "name": "ipython",
    "version": 3
   },
   "file_extension": ".py",
   "mimetype": "text/x-python",
   "name": "python",
   "nbconvert_exporter": "python",
   "pygments_lexer": "ipython3",
   "version": "3.13.3"
  }
 },
 "nbformat": 4,
 "nbformat_minor": 5
}
