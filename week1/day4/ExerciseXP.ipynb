{
 "cells": [
  {
   "cell_type": "code",
   "execution_count": 1,
   "id": "2631a3e7",
   "metadata": {},
   "outputs": [
    {
     "name": "stdout",
     "output_type": "stream",
     "text": [
      "{1, 4, 8, 24, 60}\n",
      "{12, 45, 30, 60}\n",
      "{1, 4, 8, 12, 45, 24, 60, 30}\n"
     ]
    }
   ],
   "source": [
    "# Exercise 1: Favorite Numbers\n",
    "\n",
    "\n",
    "my_fav_numbers = {4, 8, 24, 60}\n",
    "\n",
    "my_fav_numbers.add(1)\n",
    "my_fav_numbers.add(10)\n",
    "\n",
    "my_fav_numbers.remove(10)\n",
    "\n",
    "friend_fav_numbers = {30, 45, 12, 60}\n",
    "\n",
    "our_fav_numbers = my_fav_numbers.union(friend_fav_numbers)\n",
    "\n",
    "print(my_fav_numbers)\n",
    "print(friend_fav_numbers)\n",
    "print(our_fav_numbers)\n"
   ]
  },
  {
   "cell_type": "code",
   "execution_count": 2,
   "id": "dd6e2e33",
   "metadata": {},
   "outputs": [
    {
     "name": "stdout",
     "output_type": "stream",
     "text": [
      "['Apples', 'Apples', 'Oranges', 'Kiwi']\n",
      "Number of apples in the list: 2\n",
      "[]\n"
     ]
    }
   ],
   "source": [
    "\n",
    "# Exercise 3: List Manipulation\n",
    "\n",
    "basket = [\"Banana\", \"Apples\", \"Oranges\", \"Blueberries\"]\n",
    "\n",
    "basket.remove(\"Banana\")\n",
    "basket.remove(\"Blueberries\")\n",
    "\n",
    "basket.insert(4, \"Kiwi\")\n",
    "basket.insert(1, \"Apples\")\n",
    "\n",
    "print(basket)\n",
    "\n",
    "applesCount = basket.count(\"Apples\")\n",
    "print(\"Number of apples in the list:\", applesCount)\n",
    "\n",
    "basket.clear()\n",
    "print(basket)"
   ]
  },
  {
   "cell_type": "code",
   "execution_count": null,
   "id": "7061def1",
   "metadata": {},
   "outputs": [
    {
     "name": "stdout",
     "output_type": "stream",
     "text": [
      "[1.5, 2.0, 2.5, 3.0, 3.5, 4.0, 4.5, 5.0]\n"
     ]
    }
   ],
   "source": [
    "# Exercise 4: Floats\n",
    "\n",
    "number = 1\n",
    "numberList = []\n",
    "\n",
    "for num in range (8):\n",
    "    number = number + 0.5\n",
    "    numberList.append(number)\n",
    "\n",
    "print(numberList)\n",
    "    \n",
    "\n"
   ]
  },
  {
   "cell_type": "code",
   "execution_count": null,
   "id": "72d6e8a1",
   "metadata": {},
   "outputs": [
    {
     "name": "stdout",
     "output_type": "stream",
     "text": [
      "[1, 2, 3, 4, 5, 6, 7, 8, 9, 10, 11, 12, 13, 14, 15, 16, 17, 18, 19, 20]\n",
      "1\n",
      "3\n",
      "5\n",
      "7\n",
      "9\n",
      "11\n",
      "13\n",
      "15\n",
      "17\n",
      "19\n"
     ]
    }
   ],
   "source": [
    "# Exercise 5: For Loop\n",
    "numbers = []\n",
    "for num in range (1,21):\n",
    "    numbers.append(num)\n",
    "\n",
    "print(numbers)\n",
    "\n",
    "\n",
    "for index in range(len(numbers)):\n",
    "    if index % 2 == 0:\n",
    "        print(numbers[index])"
   ]
  },
  {
   "cell_type": "code",
   "execution_count": null,
   "id": "0914f2c2",
   "metadata": {},
   "outputs": [
    {
     "name": "stdout",
     "output_type": "stream",
     "text": [
      "Sam\n",
      "Tom\n",
      "Tim\n",
      "Ella\n",
      "Emma\n",
      "We have the same name!\n"
     ]
    }
   ],
   "source": [
    "# Exercise 6: While Loop\n",
    "name = \"\"\n",
    "\n",
    "while name.lower() != \"emma\":\n",
    "    name = input(\"Please enter your name\")\n",
    "    print(name)\n",
    "\n",
    "print(\"We have the same name!\")\n"
   ]
  },
  {
   "cell_type": "code",
   "execution_count": null,
   "id": "36236311",
   "metadata": {},
   "outputs": [
    {
     "name": "stdout",
     "output_type": "stream",
     "text": [
      "['apples,', 'banana,', 'pineapple,', 'orange']\n",
      "You chose a new fruit. I hope you enjoy it!\n"
     ]
    }
   ],
   "source": [
    "# Exercise 7: Favorite Fruits\n",
    "\n",
    "favoriteFruits = []\n",
    "\n",
    "favoriteFruits = input(\"Enter your favorite fruits\").split()\n",
    "\n",
    "print(favoriteFruits)\n",
    "\n",
    "userInput = input(\"Enter a fruit\")\n",
    "\n",
    "if userInput in favoriteFruits:\n",
    "    print(\"You chose one of your favorite fruits! Enjoy!\")\n",
    "else: \n",
    "    print(\"You chose a new fruit. I hope you enjoy it!\")\n"
   ]
  },
  {
   "cell_type": "code",
   "execution_count": null,
   "id": "2e0e36c2",
   "metadata": {},
   "outputs": [
    {
     "name": "stdout",
     "output_type": "stream",
     "text": [
      "Adding pepper to your pizza\n",
      "Adding mushroom to your pizza\n",
      "Adding chicken to your pizza\n",
      "['pepper', 'mushroom', 'chicken']\n",
      "The total price is $ 17.5\n"
     ]
    }
   ],
   "source": [
    "# Exercise 8: Pizza Toppings\n",
    "\n",
    "toppings = []\n",
    "toppingInput = \"\"\n",
    "totalPrice = 0\n",
    "basePrice = 10\n",
    "toppingPrice = 2.50\n",
    "\n",
    "\n",
    "while True:\n",
    "    toppingInput = input(\"Enter your pizza topping (type 'quit' to finish): \").lower()\n",
    "    \n",
    "    if toppingInput == \"quit\":\n",
    "        break\n",
    "    \n",
    "    toppings.append(toppingInput)\n",
    "    print(f\"Adding {toppingInput} to your pizza\")\n",
    "\n",
    "numOfToppings = len(toppings)\n",
    "\n",
    "totalPrice = basePrice + (toppingPrice * numOfToppings)\n",
    "print(toppings)\n",
    "print(f\"The total price is ${totalPrice}\")\n"
   ]
  },
  {
   "cell_type": "code",
   "execution_count": null,
   "id": "146d21fd",
   "metadata": {},
   "outputs": [
    {
     "name": "stdout",
     "output_type": "stream",
     "text": [
      "\n",
      "Total ticket cost: $35\n"
     ]
    }
   ],
   "source": [
    "# Exercise 9: Cinemax Tickets\n",
    "\n",
    "totalCost = 0\n",
    "\n",
    "while True:\n",
    "    ageInput = input(\"Enter age of the person (or type 'quit' to finish): \")\n",
    "    if ageInput.lower() == \"quit\":\n",
    "        break\n",
    "\n",
    "    age = int(ageInput)\n",
    "\n",
    "    if age < 3:\n",
    "        cost = 0\n",
    "    elif 3 <= age <= 12:\n",
    "        cost = 10\n",
    "    else:\n",
    "        cost = 15\n",
    "\n",
    "    totalCost += cost\n",
    "\n",
    "print(f\"\\nTotal ticket cost: ${totalCost}\")"
   ]
  },
  {
   "cell_type": "code",
   "execution_count": 5,
   "id": "42bd48db",
   "metadata": {},
   "outputs": [
    {
     "name": "stdout",
     "output_type": "stream",
     "text": [
      "\n",
      "Allowed attendees (ages 16–21): [16, 17, 19, 21]\n"
     ]
    }
   ],
   "source": [
    "# Bonus: Restricted Movie (ages 16–21 only)\n",
    "attendees = []\n",
    "\n",
    "while True:\n",
    "    ageInput = input(\"Enter age for restricted movie (or type 'quit' to finish): \")\n",
    "    if ageInput.lower() == \"quit\":\n",
    "        break\n",
    "\n",
    "    age = int(ageInput)\n",
    "\n",
    "    if 16 <= age <= 21:\n",
    "        attendees.append(age)\n",
    "\n",
    "print(f\"\\nAllowed attendees (ages 16–21): {attendees}\")\n"
   ]
  },
  {
   "cell_type": "code",
   "execution_count": null,
   "id": "bd450ab3",
   "metadata": {},
   "outputs": [
    {
     "name": "stdout",
     "output_type": "stream",
     "text": [
      "['Tuna', 'Avocado', 'Egg', 'Chicken']\n",
      "I made your Tuna sandwitch\n",
      "I made your Avocado sandwitch\n",
      "I made your Egg sandwitch\n",
      "I made your Chicken sandwitch\n",
      "Finished sandwitches: ['Tuna', 'Avocado', 'Egg', 'Chicken']\n"
     ]
    }
   ],
   "source": [
    "# Exercise 10: Sandwich Orders\n",
    "\n",
    "sandwichOrders = [\"Tuna\", \"Pastrami\", \"Avocado\", \"Pastrami\", \"Egg\", \"Chicken\", \"Pastrami\"]\n",
    "finishedOrders = []\n",
    "\n",
    "pastramiSandwitch = \"Pastrami\"\n",
    "\n",
    "while pastramiSandwitch in sandwichOrders:\n",
    "    sandwichOrders.remove(pastramiSandwitch)\n",
    "\n",
    "print(sandwichOrders)\n",
    "\n",
    "for sandwitch in sandwichOrders:\n",
    "    finishedOrders.append(sandwitch)\n",
    "    print (f\"I made your {sandwitch} sandwitch\")\n",
    "\n",
    "print (f\"Finished sandwitches: {finishedOrders}\")\n"
   ]
  }
 ],
 "metadata": {
  "kernelspec": {
   "display_name": "Python 3",
   "language": "python",
   "name": "python3"
  },
  "language_info": {
   "codemirror_mode": {
    "name": "ipython",
    "version": 3
   },
   "file_extension": ".py",
   "mimetype": "text/x-python",
   "name": "python",
   "nbconvert_exporter": "python",
   "pygments_lexer": "ipython3",
   "version": "3.13.3"
  }
 },
 "nbformat": 4,
 "nbformat_minor": 5
}
