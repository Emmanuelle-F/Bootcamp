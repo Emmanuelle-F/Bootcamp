{
 "cells": [
  {
   "cell_type": "code",
   "execution_count": null,
   "id": "3280c77f",
   "metadata": {},
   "outputs": [
    {
     "name": "stdout",
     "output_type": "stream",
     "text": [
      "59727404 called the number 59469305 \n",
      "Call History:\n",
      "59727404 called the number 59469305 \n",
      "Outgoing Messages:\n",
      "To: 59469305 | Message: Hey there!\n",
      "Incoming Messages:\n",
      "From: 59469305 | Message: Hello! What's up?\n",
      "Messages from 59727404:\n"
     ]
    }
   ],
   "source": [
    "# Exercise 1 : Call History\n",
    "\n",
    "class Phone():\n",
    "    def __init__(self, phoneNumber):\n",
    "        self.phoneNumber = phoneNumber\n",
    "        self.callHistory = []\n",
    "        self.messages = []\n",
    "\n",
    "\n",
    "    def call(self, otherPhone):\n",
    "        callLog = f\"{self.phoneNumber} called the number {otherPhone.phoneNumber} \"\n",
    "        self.callHistory.append(callLog)\n",
    "        print (callLog)\n",
    "\n",
    "\n",
    "    def showCallHistory(self):\n",
    "        print(\"Call History:\")\n",
    "        for call in self.callHistory:\n",
    "            print(call)\n",
    "\n",
    "    def sendMessage(self, otherPhone, content):\n",
    "        message = {\n",
    "            'to': otherPhone.phoneNumber,\n",
    "            'from': self.phoneNumber,\n",
    "            'content': content\n",
    "        }\n",
    "        self.messages.append(message)\n",
    "        otherPhone.messages.append(message)\n",
    "\n",
    "    def showOutgoingMessages(self):\n",
    "        print(\"Outgoing Messages:\")\n",
    "        for msg in self.messages:\n",
    "            if msg['from'] == self.phoneNumber:\n",
    "                print(f\"To: {msg['to']} & Message: {msg['content']}\")\n",
    "\n",
    "    def showIncomingMessages(self):\n",
    "        print(\"Incoming Messages:\")\n",
    "        for msg in self.messages:\n",
    "            if msg['to'] == self.phoneNumber:\n",
    "                print(f\"From: {msg['from']} & Message: {msg['content']}\")\n",
    "\n",
    "    def showMessagesFrom(self, number):\n",
    "        print(f\"Messages from {number}:\")\n",
    "        for msg in self.messages:\n",
    "            if msg['from'] == number and msg['to'] == self.phoneNumber:\n",
    "                print(f\"Message: {msg['content']}\")\n",
    "\n",
    "phone1 = Phone(\"59727404\")\n",
    "phone2 = Phone(\"59469305\")\n",
    "\n",
    "phone1.call(phone2)\n",
    "phone1.showCallHistory()\n",
    "\n",
    "phone1.sendMessage(phone2, \"Hey there!\")\n",
    "phone2.sendMessage(phone1, \"Hello! What's up?\")\n",
    "\n",
    "phone1.showOutgoingMessages()\n",
    "phone1.showIncomingMessages()\n",
    "phone1.showMessagesFrom(\"59727404\")\n",
    "\n"
   ]
  }
 ],
 "metadata": {
  "kernelspec": {
   "display_name": "Python 3",
   "language": "python",
   "name": "python3"
  },
  "language_info": {
   "codemirror_mode": {
    "name": "ipython",
    "version": 3
   },
   "file_extension": ".py",
   "mimetype": "text/x-python",
   "name": "python",
   "nbconvert_exporter": "python",
   "pygments_lexer": "ipython3",
   "version": "3.13.3"
  }
 },
 "nbformat": 4,
 "nbformat_minor": 5
}
