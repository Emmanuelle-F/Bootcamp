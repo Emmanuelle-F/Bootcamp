{
 "cells": [
  {
   "cell_type": "code",
   "execution_count": null,
   "id": "bc19f564",
   "metadata": {},
   "outputs": [
    {
     "name": "stdout",
     "output_type": "stream",
     "text": [
      "The oldest cat is Ginger with an age of 15 years old\n"
     ]
    }
   ],
   "source": [
    "# Exercise 1: Cats\n",
    "\n",
    "class Cat():\n",
    "    def __init__(self, cat_name, cat_age):\n",
    "        self.name = cat_name\n",
    "        self.age = cat_age\n",
    "\n",
    "# Step 1: Create cat objects\n",
    "cat1 = Cat(\"Garfield\", 9)\n",
    "cat2 = Cat(\"Jerry\", 6)\n",
    "cat3 = Cat(\"Ginger\", 15)\n",
    "\n",
    "# Step 2: Create a function to find the oldest cat\n",
    "def find_oldest_cat(cat1, cat2, cat3):\n",
    "    cats = [cat1, cat2, cat3]\n",
    "    cats_sorted = sorted(cats, key=lambda cat: cat.age, reverse=True)\n",
    "    return cats_sorted[0]\n",
    "\n",
    "# Step 3: Print the oldest cat's details\n",
    "oldestCat = find_oldest_cat(cat1, cat2, cat3)\n",
    "print(f\"The oldest cat is {oldestCat.name} with an age of {oldestCat.age} years old\")\n",
    "\n"
   ]
  },
  {
   "cell_type": "code",
   "execution_count": null,
   "id": "441539c2",
   "metadata": {},
   "outputs": [
    {
     "name": "stdout",
     "output_type": "stream",
     "text": [
      "David's dog is Rex and its height is 50\n",
      "Sarah's dog is Toby and its height is 75\n",
      "goes woof!\n",
      "jumps 50 cm high!\n",
      "goes woof!\n",
      "jumps 75 cm high!\n",
      "David's dog is 100 cm high while Sarah's dog is 150 cm high \n"
     ]
    }
   ],
   "source": [
    "# Exercise 2 : Dogs\n",
    "\n",
    "class Dog():\n",
    "    def __init__(self, dogName, dogHeight):\n",
    "        self.name = dogName\n",
    "        self.height = dogHeight\n",
    "\n",
    "    def bark(self):\n",
    "        print(\"goes woof!\")\n",
    "\n",
    "    def jump(self, x):\n",
    "        self.height = x * 2\n",
    "        print(f\"jumps {x} cm high!\")\n",
    "\n",
    "\n",
    "\n",
    "davidsDog = Dog(\"Rex\", 50)\n",
    "sarahsDog = Dog(\"Toby\", 75)\n",
    "\n",
    "print(f\"David's dog is {davidsDog.name} and its height is {davidsDog.height}\")\n",
    "print(f\"Sarah's dog is {sarahsDog.name} and its height is {sarahsDog.height}\")\n",
    "\n",
    "davidsDog.bark()\n",
    "davidsDog.jump(davidsDog.height)\n",
    "\n",
    "sarahsDog.bark()\n",
    "sarahsDog.jump(sarahsDog.height)\n",
    "\n",
    "print(f\"David's dog is {davidsDog.height} cm high while Sarah's dog is {sarahsDog.height} cm high \")"
   ]
  },
  {
   "cell_type": "code",
   "execution_count": null,
   "id": "783d9ea5",
   "metadata": {},
   "outputs": [
    {
     "name": "stdout",
     "output_type": "stream",
     "text": [
      "There’s a lady who's sure\n",
      "all that glitters is gold\n",
      "and she’s buying a stairway to heaven\n"
     ]
    }
   ],
   "source": [
    "#Exercise 3 : Who’s the song producer?\n",
    "class Song():\n",
    "    def __init__(self, lyrics):\n",
    "        self.lyrics = lyrics\n",
    "\n",
    "\n",
    "    def singMeASong(self):\n",
    "        for lyric in self.lyrics:\n",
    "            print(lyric)\n",
    "\n",
    "stairway = Song([\"There’s a lady who's sure\", \"all that glitters is gold\", \"and she’s buying a stairway to heaven\"])\n",
    "stairway.singMeASong()\n",
    "        "
   ]
  },
  {
   "cell_type": "code",
   "execution_count": null,
   "id": "9b96eff7",
   "metadata": {},
   "outputs": [
    {
     "name": "stdout",
     "output_type": "stream",
     "text": [
      "New Animal Cougar has been added to the zoo\n",
      "New Animal Bear has been added to the zoo\n",
      "New Animal Giraffe has been added to the zoo\n",
      "New Animal Cat has been added to the zoo\n",
      "New Animal Zebra has been added to the zoo\n",
      "New Animal Lion has been added to the zoo\n",
      "['Cougar', 'Bear', 'Giraffe', 'Cat', 'Zebra', 'Lion']\n",
      "Animal Cougar has been removed from the zoo\n"
     ]
    }
   ],
   "source": [
    "# Exercise 4 : Afternoon at the Zoo\n",
    "\n",
    "class Zoo():\n",
    "    def __init__(self, zooName):\n",
    "        self.zooName = zooName\n",
    "        self.animals = []\n",
    "\n",
    "    def addAnimals(self,newAnimal):\n",
    "        if newAnimal not in self.animals:\n",
    "            self.animals.append(newAnimal)\n",
    "            print(f\"New Animal {newAnimal} has been added to the zoo\")\n",
    "\n",
    "    def getAnimals(self):\n",
    "        print(self.animals)\n",
    "\n",
    "    def sellAnimals(self, animalName):\n",
    "        if animalName in self.animals:\n",
    "            self.animals.remove(animalName)\n",
    "            print(f\"Animal {animalName} has been removed from the zoo\")\n",
    "\n",
    "\n",
    "    def sortAnimals(self):\n",
    "        sortedAnimals = sorted(self.animals)\n",
    "        groupedAnimals = {}\n",
    "\n",
    "        for animal in sortedAnimals:\n",
    "            first_letter = animal[0].upper()\n",
    "            if first_letter not in groupedAnimals:\n",
    "                groupedAnimals[first_letter] = [animal]\n",
    "            else:\n",
    "                groupedAnimals[first_letter].append(animal)\n",
    "\n",
    "        print(\"Grouped and Sorted Animals:\")\n",
    "        for letter, animals in groupedAnimals.items():\n",
    "            print(f\"{letter}: {animals}\")\n",
    "        return groupedAnimals\n",
    "            \n",
    "            \n",
    "\n",
    "\n",
    "zoo = Zoo(\"Zootopia\")\n",
    "\n",
    "zoo.addAnimals(\"Cougar\")\n",
    "zoo.addAnimals(\"Bear\")\n",
    "zoo.addAnimals(\"Giraffe\")\n",
    "zoo.addAnimals(\"Cat\")\n",
    "zoo.addAnimals(\"Zebra\")\n",
    "zoo.addAnimals(\"Lion\")\n",
    "\n",
    "zoo.getAnimals()\n",
    "\n",
    "zoo.sellAnimals(\"Cougar\")\n",
    "\n",
    "zoo.sortAnimals()\n",
    "\n",
    "\n",
    "\n",
    "\n",
    "\n",
    "\n"
   ]
  },
  {
   "cell_type": "code",
   "execution_count": null,
   "id": "40b550dc",
   "metadata": {},
   "outputs": [],
   "source": []
  }
 ],
 "metadata": {
  "kernelspec": {
   "display_name": "Python 3",
   "language": "python",
   "name": "python3"
  },
  "language_info": {
   "codemirror_mode": {
    "name": "ipython",
    "version": 3
   },
   "file_extension": ".py",
   "mimetype": "text/x-python",
   "name": "python",
   "nbconvert_exporter": "python",
   "pygments_lexer": "ipython3",
   "version": "3.13.3"
  }
 },
 "nbformat": 4,
 "nbformat_minor": 5
}
