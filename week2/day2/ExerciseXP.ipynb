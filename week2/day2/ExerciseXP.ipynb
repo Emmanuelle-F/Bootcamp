{
 "cells": [
  {
   "cell_type": "code",
   "execution_count": null,
   "id": "6d6c744d",
   "metadata": {},
   "outputs": [
    {
     "name": "stdout",
     "output_type": "stream",
     "text": [
      "I am learning aboutn functions in Python\n"
     ]
    }
   ],
   "source": [
    "# Exercise 1: What Are You Learning?\n",
    "\n",
    "def display_message():\n",
    "    print (\"I am learning aboutn functions in Python\")\n",
    "\n",
    "display_message()\n"
   ]
  },
  {
   "cell_type": "code",
   "execution_count": null,
   "id": "7b60fdf1",
   "metadata": {},
   "outputs": [
    {
     "name": "stdout",
     "output_type": "stream",
     "text": [
      "One of my favorite books is Alice in Wonderland\n"
     ]
    }
   ],
   "source": [
    "# Exercise 2: What’s Your Favorite Book?\n",
    "\n",
    "def favorite_book (title):\n",
    "    print (f\"One of my favorite books is {title}\")\n",
    "\n",
    "\n",
    "favorite_book(\"Alice in Wonderland\")\n"
   ]
  },
  {
   "cell_type": "code",
   "execution_count": null,
   "id": "98e31830",
   "metadata": {},
   "outputs": [
    {
     "name": "stdout",
     "output_type": "stream",
     "text": [
      "Paris is in France\n"
     ]
    }
   ],
   "source": [
    "# Exercise 3: Some Geography\n",
    "\n",
    "def descrive_city(city, country = \"Unknown\"):\n",
    "    print (f\"{city} is in {country}\")\n",
    "\n",
    "\n",
    "descrive_city(\"Paris\", \"France\")"
   ]
  },
  {
   "cell_type": "code",
   "execution_count": null,
   "id": "f9c6eee8",
   "metadata": {},
   "outputs": [
    {
     "name": "stdout",
     "output_type": "stream",
     "text": [
      "Numbers do not match, 5 not equal 7\n"
     ]
    }
   ],
   "source": [
    "# Exercise 4: Random\n",
    "\n",
    "import random\n",
    "\n",
    "randomNum = 0\n",
    "\n",
    "def randomNumber(number):\n",
    "    if number >= 1 and number <= 100:\n",
    "        randomNumber = random.randint(1, 100)\n",
    "\n",
    "    if number == randomNum:\n",
    "        print (\"Both numbers are equal!\")\n",
    "    else:\n",
    "        print (f\"Numbers do not match, {number} not equal {randomNum}\")\n",
    "\n",
    "\n",
    "randomNumber(5)\n",
    "\n"
   ]
  },
  {
   "cell_type": "code",
   "execution_count": null,
   "id": "d09fb439",
   "metadata": {},
   "outputs": [],
   "source": [
    "# 🌟 Exercise 5: Let’s Create Some Personalized Shirts!\n",
    "# Goal: Create a function to describe a shirt’s size and message, with default values.\n",
    "\n",
    "# Key Python Topics:\n",
    "\n",
    "# Functions with parameters and default values\n",
    "# Keyword arguments\n",
    "\n",
    "\n",
    "# Step 1: Define a Function with Parameters\n",
    "\n",
    "# Define a function called make_shirt().\n",
    "# This function should accept two parameters: size and text.\n",
    "\n",
    "\n",
    "# Step 2: Print a Summary Message\n",
    "\n",
    "# Set up the function to display a sentence summarizing the shirt’s size and message.\n",
    "\n",
    "\n",
    "# Step 3: Call the Function\n",
    "\n",
    "\n",
    "\n",
    "# Step 4: Modify the Function with Default Values\n",
    "\n",
    "# Modify the make_shirt() function so that size has a default value of “large” and text has a default value of “I love Python”.\n",
    "\n",
    "\n",
    "# Step 5: Call the Function with Default and Custom Values\n",
    "\n",
    "# Call make_shirt() to make a large shirt with the default message.\n",
    "# Call make_shirt() to make a medium shirt with the default message.\n",
    "# Call make_shirt() to make a shirt of any size with a different message.\n",
    "\n",
    "\n",
    "# Step 6 (Bonus): Keyword Arguments\n",
    "\n",
    "# Call make_shirt() using keyword arguments (e.g., make_shirt(size=\"small\", text=\"Hello!\"))."
   ]
  }
 ],
 "metadata": {
  "kernelspec": {
   "display_name": "Python 3",
   "language": "python",
   "name": "python3"
  },
  "language_info": {
   "codemirror_mode": {
    "name": "ipython",
    "version": 3
   },
   "file_extension": ".py",
   "mimetype": "text/x-python",
   "name": "python",
   "nbconvert_exporter": "python",
   "pygments_lexer": "ipython3",
   "version": "3.13.3"
  }
 },
 "nbformat": 4,
 "nbformat_minor": 5
}
