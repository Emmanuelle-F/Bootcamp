{
 "cells": [
  {
   "cell_type": "code",
   "execution_count": null,
   "id": "6d6c744d",
   "metadata": {},
   "outputs": [
    {
     "name": "stdout",
     "output_type": "stream",
     "text": [
      "I am learning aboutn functions in Python\n"
     ]
    }
   ],
   "source": [
    "# Exercise 1: What Are You Learning?\n",
    "\n",
    "def display_message():\n",
    "    print (\"I am learning aboutn functions in Python\")\n",
    "\n",
    "display_message()\n"
   ]
  },
  {
   "cell_type": "code",
   "execution_count": null,
   "id": "7b60fdf1",
   "metadata": {},
   "outputs": [
    {
     "name": "stdout",
     "output_type": "stream",
     "text": [
      "One of my favorite books is Alice in Wonderland\n"
     ]
    }
   ],
   "source": [
    "# Exercise 2: What’s Your Favorite Book?\n",
    "\n",
    "def favorite_book (title):\n",
    "    print (f\"One of my favorite books is {title}\")\n",
    "\n",
    "\n",
    "favorite_book(\"Alice in Wonderland\")\n"
   ]
  },
  {
   "cell_type": "code",
   "execution_count": null,
   "id": "98e31830",
   "metadata": {},
   "outputs": [
    {
     "name": "stdout",
     "output_type": "stream",
     "text": [
      "Paris is in France\n"
     ]
    }
   ],
   "source": [
    "# Exercise 3: Some Geography\n",
    "\n",
    "def descrive_city(city, country = \"Unknown\"):\n",
    "    print (f\"{city} is in {country}\")\n",
    "\n",
    "\n",
    "descrive_city(\"Paris\", \"France\")"
   ]
  },
  {
   "cell_type": "code",
   "execution_count": null,
   "id": "f9c6eee8",
   "metadata": {},
   "outputs": [
    {
     "name": "stdout",
     "output_type": "stream",
     "text": [
      "Both numbers are equal!\n"
     ]
    }
   ],
   "source": [
    "# Exercise 4: Random\n",
    "\n",
    "import random\n",
    "\n",
    "def randomNumber(number):\n",
    "    if number >= 1 and number <= 100:\n",
    "        randomNum = random.randint(1, 100)\n",
    "\n",
    "        if number == randomNum:\n",
    "            print (\"Both numbers are equal!\")\n",
    "        else:\n",
    "            print (f\"Numbers do not match, {number} not equal {randomNum}\")\n",
    "    else:\n",
    "        print(\"Number is out of range (1-100).\")\n",
    "\n",
    "\n",
    "randomNumber(10)\n",
    "\n"
   ]
  },
  {
   "cell_type": "code",
   "execution_count": null,
   "id": "d09fb439",
   "metadata": {},
   "outputs": [],
   "source": [
    "# Exercise 5: Let’s Create Some Personalized Shirts!\n",
    "\n",
    "# def makeShirt(size, text):\n",
    "#     print (f\"The shirt is of size {size} and has the text {text} on it\")\n",
    "\n",
    "def makeShirt(size = \"Large\", text = \"I love Python\"):\n",
    "    print (f\"The shirt is of size {size} and has the text {text} on it\")\n",
    "\n",
    "shirt1 = makeShirt(\"Small\", \"Hello\")\n",
    "shirt2 = makeShirt()\n",
    "shirt3 = makeShirt(size = \"Medium\")\n",
    "shirt4 = makeShirt(\"XS\", \"Preety\")\n"
   ]
  },
  {
   "cell_type": "code",
   "execution_count": null,
   "id": "fd9ab71a",
   "metadata": {},
   "outputs": [
    {
     "name": "stdout",
     "output_type": "stream",
     "text": [
      "['The Great Harry Houdini', 'The Great David Blaine', 'The Great Criss Angel']\n",
      "The Great Harry Houdini\n",
      "The Great David Blaine\n",
      "The Great Criss Angel\n"
     ]
    }
   ],
   "source": [
    "# Exercise 6: Magicians…\n",
    "\n",
    "magicianNames = [\"Harry Houdini\", \"David Blaine\", \"Criss Angel\"]\n",
    "\n",
    "def showMagicians (magicians):\n",
    "    for magician in magicians:\n",
    "        print (magician)\n",
    "\n",
    "\n",
    "def makeGreat(magicians):\n",
    "    for magician in magicians:\n",
    "        index = magicians.index(magician)\n",
    "        magicians[index] = \"The Great \" + magician\n",
    "    print(magicians)\n",
    "\n",
    "\n",
    "makeGreat(magicianNames)\n",
    "\n",
    "showMagicians(magicianNames)\n"
   ]
  },
  {
   "cell_type": "code",
   "execution_count": null,
   "id": "72c3484b",
   "metadata": {},
   "outputs": [],
   "source": [
    "# Exercise 7: Temperature Advice\n",
    "\n",
    "import math\n",
    "\n",
    "def getRandomTemp ():\n",
    "    return random.randint(-10, 40)\n",
    "\n",
    "def main ():\n",
    "    randomTemp = getRandomTemp()\n",
    "    print (f\"The temperature right now is {randomTemp} degrees Celsius.\")\n",
    "    \n",
    "    if 0 < randomTemp:\n",
    "        print (\"Brrr, that’s freezing! Wear some extra layers today.\")\n",
    "    elif 0 < randomTemp < 16:\n",
    "        print (\"Quite chilly! Don’t forget your coat.\")\n",
    "    elif 16 < randomTemp < 23:\n",
    "        print (\"Nice weather.\")\n",
    "    elif 24 < randomTemp < 32:\n",
    "        print (\"A bit warm, stay hydrated.\")\n",
    "    elif 32 < randomTemp < 40:\n",
    "        print (\"It’s really hot! Stay cool.\")\n",
    "    else:\n",
    "        print(randomTemp)\n",
    "    \n",
    "\n",
    "\n",
    "\n",
    "# Step 3: Provide Temperature-Based Advice\n",
    "\n",
    "# Inside main(), provide advice based on the temperature:\n",
    "# Below 0°C: e.g., “Brrr, that’s freezing! Wear some extra layers today.”\n",
    "# Between 0°C and 16°C: e.g., “Quite chilly! Don’t forget your coat.”\n",
    "# Between 16°C and 23°C: e.g., “Nice weather.”\n",
    "# Between 24°C and 32°C: e.g., “A bit warm, stay hydrated.”\n",
    "# Between 32°C and 40°C: e.g., “It’s really hot! Stay cool.”\n",
    "\n",
    "\n",
    "# Step 4: Floating-Point Temperatures (Bonus)\n",
    "\n",
    "# Modify get_random_temp() to return a random floating-point number using random.uniform() for more accurate temperature values.\n",
    "\n",
    "\n",
    "# Step 5: Month-Based Seasons (Bonus)\n",
    "\n",
    "# Instead of directly generating a random temperature, ask the user for a month (1-12) and determine the season using if/elif conditions.\n",
    "# Modify get_random_temp() to return temperatures specific to each season."
   ]
  }
 ],
 "metadata": {
  "kernelspec": {
   "display_name": "Python 3",
   "language": "python",
   "name": "python3"
  },
  "language_info": {
   "codemirror_mode": {
    "name": "ipython",
    "version": 3
   },
   "file_extension": ".py",
   "mimetype": "text/x-python",
   "name": "python",
   "nbconvert_exporter": "python",
   "pygments_lexer": "ipython3",
   "version": "3.13.3"
  }
 },
 "nbformat": 4,
 "nbformat_minor": 5
}
