{
 "cells": [
  {
   "cell_type": "code",
   "execution_count": null,
   "id": "4d92a356",
   "metadata": {},
   "outputs": [
    {
     "name": "stdout",
     "output_type": "stream",
     "text": [
      "['apples', 'oranges', 'pineapple', 'banana']\n"
     ]
    }
   ],
   "source": [
    "# Exercise 1\n",
    "# Instructions\n",
    "# Write a script that inserts an item at a defined index in a list.\n",
    "\n",
    "myList = [\"apples\", \"oranges\", \"banana\"]\n",
    "\n",
    "myList.insert(2, \"pineapple\")\n",
    "\n",
    "print(myList)\n"
   ]
  },
  {
   "cell_type": "code",
   "execution_count": null,
   "id": "147d5f9e",
   "metadata": {},
   "outputs": [
    {
     "name": "stdout",
     "output_type": "stream",
     "text": [
      "4\n"
     ]
    }
   ],
   "source": [
    "# Exercise 2\n",
    "# Instructions\n",
    "# Write a script that counts the number of spaces in a string.\n",
    "\n",
    "myString = \"My favourite desert is chocolate\"\n",
    "\n",
    "occurences = myString.count(\" \")\n",
    "\n",
    "print(occurences)"
   ]
  },
  {
   "cell_type": "code",
   "execution_count": 26,
   "id": "63640aa0",
   "metadata": {},
   "outputs": [
    {
     "name": "stdout",
     "output_type": "stream",
     "text": [
      "Number of upper case letters: 9 \n",
      "Number of lower case letters: 3\n"
     ]
    }
   ],
   "source": [
    "# Exercise 3\n",
    "# Instructions\n",
    "# Write a script that calculates the number of upper case letters and lower case letters in a string.\n",
    "\n",
    "def countLetters (myString2):\n",
    "    upperCaseCount = 0\n",
    "    lowerCaseCount = 0\n",
    "\n",
    "    for s in myString2:\n",
    "        if s.isupper() == True:\n",
    "            upperCaseCount += 1\n",
    "        if s.islower() == True:\n",
    "            lowerCaseCount += 1\n",
    "        \n",
    "    print(f\"Number of upper case letters: {upperCaseCount} \\nNumber of lower case letters: {lowerCaseCount}\")\n",
    "\n",
    "myString2 = \"FRAPPIER Emma\"\n",
    "countLetters(myString2)"
   ]
  },
  {
   "cell_type": "code",
   "execution_count": 13,
   "id": "e3b8e1d7",
   "metadata": {},
   "outputs": [
    {
     "name": "stdout",
     "output_type": "stream",
     "text": [
      "12\n"
     ]
    }
   ],
   "source": [
    "# Exercise 4\n",
    "# Instructions\n",
    "# Write a function to find the sum of an array without using the built in function:\n",
    "\n",
    "def mySum (numbers):\n",
    "    total = 0\n",
    "    for number in numbers:\n",
    "        total += number\n",
    "    return total\n",
    "\n",
    "    \n",
    "\n",
    "sum = mySum([1,5,4,2])\n",
    "print(sum)"
   ]
  },
  {
   "cell_type": "code",
   "execution_count": null,
   "id": "3d27b534",
   "metadata": {},
   "outputs": [
    {
     "name": "stdout",
     "output_type": "stream",
     "text": [
      "Max number is 50\n"
     ]
    }
   ],
   "source": [
    "# Exercise 5\n",
    "# Instructions\n",
    "# Write a function to find the max number in a list\n",
    "\n",
    "def findMax (numbers1):\n",
    "    numbers1.sort(reverse = True)\n",
    "    return numbers1[0]\n",
    "\n",
    "max = findMax([0,1,3,50])\n",
    "print(f\"Max number is {max}\")\n",
    "\n"
   ]
  },
  {
   "cell_type": "code",
   "execution_count": 18,
   "id": "0c3da3b0",
   "metadata": {},
   "outputs": [
    {
     "name": "stdout",
     "output_type": "stream",
     "text": [
      "Factorial of 4 is 24\n"
     ]
    }
   ],
   "source": [
    "# Exercise 6\n",
    "# Instructions\n",
    "# Write a function that returns factorial of a number\n",
    "\n",
    "import math\n",
    "\n",
    "number = 4\n",
    "print (f\"Factorial of {number} is {math.factorial(number)}\")"
   ]
  },
  {
   "cell_type": "code",
   "execution_count": null,
   "id": "74577cec",
   "metadata": {},
   "outputs": [
    {
     "name": "stdout",
     "output_type": "stream",
     "text": [
      "2\n"
     ]
    }
   ],
   "source": [
    "# Exercise 7\n",
    "# Instructions\n",
    "# Write a function that counts an element in a list (without using the count method):\n",
    "\n",
    "def listCount (lst, element):\n",
    "    count = 0\n",
    "    for l in lst:\n",
    "        if l == element:\n",
    "            count += 1\n",
    "    print (count)\n",
    "\n",
    "\n",
    "listCount(['a','a','t','o'],'a')"
   ]
  },
  {
   "cell_type": "code",
   "execution_count": 25,
   "id": "ebb9dec5",
   "metadata": {},
   "outputs": [
    {
     "data": {
      "text/plain": [
       "3"
      ]
     },
     "execution_count": 25,
     "metadata": {},
     "output_type": "execute_result"
    }
   ],
   "source": [
    "# Exercise 8\n",
    "# Instructions\n",
    "# Write a function that returns the L2-norm (square root of the sum of squares) of the sum of a list:\n",
    "\n",
    "import math\n",
    "\n",
    "def norm(numbers2):\n",
    "    sum = 0\n",
    "    for num in numbers2:\n",
    "        sum = sum + num **2\n",
    "    return int(math.sqrt(sum))\n",
    "    \n",
    "norm([1,2,2])\n"
   ]
  },
  {
   "cell_type": "code",
   "execution_count": 33,
   "id": "0fe530ab",
   "metadata": {},
   "outputs": [
    {
     "name": "stdout",
     "output_type": "stream",
     "text": [
      "True\n",
      "True\n",
      "False\n"
     ]
    }
   ],
   "source": [
    "# Exercise 9\n",
    "# Instructions\n",
    "# Write a function to find if an array is monotonic (sorted either ascending of descending)\n",
    "\n",
    "def isMono (numbers4):\n",
    "    ascendingSorting = sorted(numbers4)\n",
    "    descendingSorting = sorted(numbers4, reverse= True)\n",
    "\n",
    "    if numbers4 == ascendingSorting:\n",
    "        return True\n",
    "    elif numbers4 == descendingSorting:\n",
    "        return True\n",
    "    else:\n",
    "        return False\n",
    "\n",
    "\n",
    "print(isMono([7,6,5,5,2,0]))\n",
    "\n",
    "print(isMono([2,3,3,3]))\n",
    "\n",
    "print(isMono([1,2,0,4]))\n"
   ]
  },
  {
   "cell_type": "code",
   "execution_count": 38,
   "id": "034ae00f",
   "metadata": {},
   "outputs": [
    {
     "name": "stdout",
     "output_type": "stream",
     "text": [
      "Longest word : pineapple of size 9\n"
     ]
    }
   ],
   "source": [
    "# Exercise 10\n",
    "# Instructions\n",
    "# Write a function that prints the longest word in a list.\n",
    "\n",
    "def getLongestWord (myList1):\n",
    "    longestLength = 0\n",
    "    longestWord = \"\"\n",
    "\n",
    "    for word in myList1:\n",
    "        wordLength = len(word)\n",
    "\n",
    "        if wordLength > longestLength:\n",
    "            longestLength = wordLength\n",
    "            longestWord = word\n",
    "\n",
    "    return longestLength, longestWord\n",
    "\n",
    "lst1 = ['apples', 'oranges', 'pineapple', 'banana']\n",
    "lenght, word = getLongestWord(lst1)\n",
    "print (f\"Longest word : {word} of size {lenght}\")\n",
    "\n",
    "    "
   ]
  },
  {
   "cell_type": "code",
   "execution_count": null,
   "id": "e450caf8",
   "metadata": {},
   "outputs": [],
   "source": []
  },
  {
   "cell_type": "code",
   "execution_count": 40,
   "id": "a6d46ce6",
   "metadata": {},
   "outputs": [
    {
     "name": "stdout",
     "output_type": "stream",
     "text": [
      "Integers: [1, 3, 5]\n",
      "Strings: ['apple', 'banana', 'cherry']\n"
     ]
    }
   ],
   "source": [
    "# Exercise 11\n",
    "# Instructions\n",
    "# Given a list of integers and strings, put all the integers in one list, and all the strings in another one.\n",
    "\n",
    "\n",
    "def splitList (myList2):\n",
    "    integerList = []\n",
    "    stringList = []\n",
    "\n",
    "    for element in myList2:\n",
    "        if isinstance(element, int):\n",
    "            integerList.append(element)\n",
    "\n",
    "        if isinstance(element, str):\n",
    "            stringList.append(element)\n",
    "\n",
    "    return integerList, stringList\n",
    "\n",
    "\n",
    "lst2 = [1, \"apple\", 3, \"banana\", 5, \"cherry\"]\n",
    "integers, strings = splitList(lst2)\n",
    "print(\"Integers:\", integers)\n",
    "print(\"Strings:\", strings)"
   ]
  },
  {
   "cell_type": "code",
   "execution_count": 48,
   "id": "31570540",
   "metadata": {},
   "outputs": [
    {
     "name": "stdout",
     "output_type": "stream",
     "text": [
      "False\n"
     ]
    }
   ],
   "source": [
    "# Exercise 12\n",
    "# Instructions\n",
    "# Write a function to check if a string is a palindrome:\n",
    "\n",
    "def isPalindrome(myList3):\n",
    "    reversedList = myList3[::-1]\n",
    "\n",
    "    if myList3 == reversedList:\n",
    "        return True\n",
    "    else: \n",
    "        return False\n",
    "\n",
    "userInput = input (\"Enter a string\")\n",
    "print(isPalindrome(userInput))\n"
   ]
  },
  {
   "cell_type": "code",
   "execution_count": null,
   "id": "2cd3255c",
   "metadata": {},
   "outputs": [],
   "source": [
    "# Exercise 13\n",
    "# Instructions\n",
    "# Write a function that returns the amount of words in a sentence with length > k:"
   ]
  }
 ],
 "metadata": {
  "kernelspec": {
   "display_name": "Python 3",
   "language": "python",
   "name": "python3"
  },
  "language_info": {
   "codemirror_mode": {
    "name": "ipython",
    "version": 3
   },
   "file_extension": ".py",
   "mimetype": "text/x-python",
   "name": "python",
   "nbconvert_exporter": "python",
   "pygments_lexer": "ipython3",
   "version": "3.13.3"
  }
 },
 "nbformat": 4,
 "nbformat_minor": 5
}
