{
 "cells": [
  {
   "cell_type": "code",
   "execution_count": 12,
   "id": "f5c14c77",
   "metadata": {},
   "outputs": [],
   "source": [
    "import json\n",
    "import nltk\n",
    "from nltk.tokenize import word_tokenize\n",
    "from sklearn.feature_extraction.text import TfidfVectorizer\n",
    "from nltk.corpus import stopwords\n",
    "from sklearn.feature_extraction.text import CountVectorizer\n"
   ]
  },
  {
   "cell_type": "code",
   "execution_count": 9,
   "id": "52e1de1b",
   "metadata": {},
   "outputs": [
    {
     "name": "stderr",
     "output_type": "stream",
     "text": [
      "[nltk_data] Downloading package stopwords to\n",
      "[nltk_data]     C:\\Users\\emmaf\\AppData\\Roaming\\nltk_data...\n",
      "[nltk_data]   Unzipping corpora\\stopwords.zip.\n"
     ]
    },
    {
     "data": {
      "text/plain": [
       "True"
      ]
     },
     "execution_count": 9,
     "metadata": {},
     "output_type": "execute_result"
    }
   ],
   "source": [
    "nltk.download('stopwords')"
   ]
  },
  {
   "cell_type": "markdown",
   "id": "1577649a",
   "metadata": {},
   "source": [
    "Using BOW"
   ]
  },
  {
   "cell_type": "code",
   "execution_count": 11,
   "id": "c028b380",
   "metadata": {},
   "outputs": [
    {
     "name": "stdout",
     "output_type": "stream",
     "text": [
      "Feature names: ['bitter' 'blaming' 'difference' 'dirt' 'diverged' 'dust' 'earth'\n",
      " 'everything' 'head' 'history' 'keep' 'less' 'lies' 'like' 'losing' 'made'\n",
      " 'man' 'may' 'one' 'rise' 'roads' 'son' 'still' 'took' 'traveled' 'tread'\n",
      " 'twisted' 'two' 'wood' 'write']\n",
      "Vectorized representation:\n",
      " [[0 0 1 0 1 0 0 0 0 0 0 1 0 0 0 1 0 0 1 0 1 0 0 1 1 0 0 1 1 0]\n",
      " [1 0 0 1 0 1 0 0 0 1 0 0 1 1 0 0 0 2 0 1 0 0 1 0 0 1 1 0 0 1]\n",
      " [0 1 0 0 0 0 1 1 1 0 1 0 0 0 1 0 1 0 0 0 0 1 0 0 0 0 0 0 0 0]]\n"
     ]
    }
   ],
   "source": [
    "with open('famous_poems.json', 'r') as f:\n",
    "    data = json.load(f)\n",
    "\n",
    "processed_poems = []\n",
    "#cleaning stopwords\n",
    "for poem in data:\n",
    "    tokens = word_tokenize(poem['text'])\n",
    "    filtered_tokens = [word for word in tokens if not word.lower() in stopwords.words('english') and word.isalpha()]\n",
    "    processed_poems.append(' '.join(filtered_tokens))\n",
    "\n",
    "vectorizer = CountVectorizer()\n",
    "X = vectorizer.fit_transform(processed_poems)\n",
    "\n",
    "print(\"Feature names:\", vectorizer.get_feature_names_out())\n",
    "print(\"Vectorized representation:\\n\", X.toarray())\n"
   ]
  },
  {
   "cell_type": "markdown",
   "id": "6c2ee604",
   "metadata": {},
   "source": [
    "Using TF-IDF"
   ]
  },
  {
   "cell_type": "code",
   "execution_count": 13,
   "id": "bf83566c",
   "metadata": {},
   "outputs": [
    {
     "name": "stdout",
     "output_type": "stream",
     "text": [
      "Feature names: ['bitter' 'blaming' 'difference' 'dirt' 'diverged' 'dust' 'earth'\n",
      " 'everything' 'head' 'history' 'keep' 'less' 'lies' 'like' 'losing' 'made'\n",
      " 'man' 'may' 'one' 'rise' 'roads' 'son' 'still' 'took' 'traveled' 'tread'\n",
      " 'twisted' 'two' 'wood' 'write']\n",
      "Vectorized representation:\n",
      " [[0.         0.         0.31622777 0.         0.31622777 0.\n",
      "  0.         0.         0.         0.         0.         0.31622777\n",
      "  0.         0.         0.         0.31622777 0.         0.\n",
      "  0.31622777 0.         0.31622777 0.         0.         0.31622777\n",
      "  0.31622777 0.         0.         0.31622777 0.31622777 0.        ]\n",
      " [0.25819889 0.         0.         0.25819889 0.         0.25819889\n",
      "  0.         0.         0.         0.25819889 0.         0.\n",
      "  0.25819889 0.25819889 0.         0.         0.         0.51639778\n",
      "  0.         0.25819889 0.         0.         0.25819889 0.\n",
      "  0.         0.25819889 0.25819889 0.         0.         0.25819889]\n",
      " [0.         0.35355339 0.         0.         0.         0.\n",
      "  0.35355339 0.35355339 0.35355339 0.         0.35355339 0.\n",
      "  0.         0.         0.35355339 0.         0.35355339 0.\n",
      "  0.         0.         0.         0.35355339 0.         0.\n",
      "  0.         0.         0.         0.         0.         0.        ]]\n"
     ]
    }
   ],
   "source": [
    "with open('famous_poems.json', 'r') as f:\n",
    "    data = json.load(f)\n",
    "\n",
    "processed_poems = []\n",
    "#cleaning stopwords\n",
    "for poem in data:\n",
    "    tokens = word_tokenize(poem['text'])\n",
    "    filtered_tokens = [word for word in tokens if not word.lower() in stopwords.words('english') and word.isalpha()]\n",
    "    processed_poems.append(' '.join(filtered_tokens))\n",
    "\n",
    "vectorizer = TfidfVectorizer()\n",
    "tfidf_matrix = vectorizer.fit_transform(processed_poems)\n",
    "\n",
    "print(\"Feature names:\", vectorizer.get_feature_names_out())\n",
    "print(\"Vectorized representation:\\n\", tfidf_matrix.toarray())"
   ]
  }
 ],
 "metadata": {
  "kernelspec": {
   "display_name": "bootcampenv (3.13.3)",
   "language": "python",
   "name": "python3"
  },
  "language_info": {
   "codemirror_mode": {
    "name": "ipython",
    "version": 3
   },
   "file_extension": ".py",
   "mimetype": "text/x-python",
   "name": "python",
   "nbconvert_exporter": "python",
   "pygments_lexer": "ipython3",
   "version": "3.13.3"
  }
 },
 "nbformat": 4,
 "nbformat_minor": 5
}
