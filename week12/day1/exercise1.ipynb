{
 "cells": [
  {
   "cell_type": "code",
   "execution_count": 8,
   "id": "87475ecb",
   "metadata": {},
   "outputs": [
    {
     "name": "stderr",
     "output_type": "stream",
     "text": [
      "[nltk_data] Downloading package punkt_tab to\n",
      "[nltk_data]     C:\\Users\\emmaf\\AppData\\Roaming\\nltk_data...\n",
      "[nltk_data]   Package punkt_tab is already up-to-date!\n"
     ]
    }
   ],
   "source": [
    "import nltk\n",
    "\n",
    "# Download the 'punkt_tab' resource\n",
    "nltk.download('punkt_tab')\n",
    "\n",
    "from nltk.tokenize import word_tokenize, sent_tokenize"
   ]
  },
  {
   "cell_type": "code",
   "execution_count": 9,
   "id": "17379fe0",
   "metadata": {},
   "outputs": [
    {
     "name": "stdout",
     "output_type": "stream",
     "text": [
      "['Why', ',', 'sometimes', 'I', '`', 've', 'believed', 'as', 'many', 'as', '6', 'impossible', 'things', 'before', 'breakfast', '?']\n"
     ]
    }
   ],
   "source": [
    "text = \"Why, sometimes I`ve believed as many as 6 impossible things before breakfast?\"\n",
    "\n",
    "word_token = word_tokenize(text)\n",
    "print (word_token)"
   ]
  },
  {
   "cell_type": "code",
   "execution_count": 10,
   "id": "65fb8111",
   "metadata": {},
   "outputs": [
    {
     "name": "stdout",
     "output_type": "stream",
     "text": [
      "['Why, sometimes I`ve believed as many as 6 impossible things before breakfast?', 'Alice Through the Looking Glass']\n"
     ]
    }
   ],
   "source": [
    "text2 = \"Why, sometimes I`ve believed as many as 6 impossible things before breakfast? Alice Through the Looking Glass\"\n",
    "sent_token = sent_tokenize(text2)\n",
    "\n",
    "print (sent_token)\n"
   ]
  }
 ],
 "metadata": {
  "kernelspec": {
   "display_name": "bootcampenv (3.13.3)",
   "language": "python",
   "name": "python3"
  },
  "language_info": {
   "codemirror_mode": {
    "name": "ipython",
    "version": 3
   },
   "file_extension": ".py",
   "mimetype": "text/x-python",
   "name": "python",
   "nbconvert_exporter": "python",
   "pygments_lexer": "ipython3",
   "version": "3.13.3"
  }
 },
 "nbformat": 4,
 "nbformat_minor": 5
}
