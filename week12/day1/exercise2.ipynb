{
 "cells": [
  {
   "cell_type": "code",
   "execution_count": null,
   "id": "0fea4459",
   "metadata": {},
   "outputs": [],
   "source": [
    "import spacy"
   ]
  },
  {
   "cell_type": "code",
   "execution_count": null,
   "id": "677bd5f5",
   "metadata": {},
   "outputs": [],
   "source": [
    "doc = '''Linguistics and Natural Language Processing (NLP) are closely linked. \\n \n",
    "Linguistics is the scientific study of language, encompassing its structure, meaning, and context. \\n \n",
    "It provides foundational knowledge about language syntax, semantics, pragmatics, and phonetics. \\n \n",
    "NLP applies this linguistic knowledge in computational algorithms to enable computers to understand, \n",
    "interpret, and generate human language. \n",
    "By leveraging linguistic principles, NLP seeks to bridge the gap between human communication and computer understanding, \n",
    "enabling tasks like translation, sentiment analysis, and voice recognition.'''"
   ]
  },
  {
   "cell_type": "code",
   "execution_count": null,
   "id": "c5a6011a",
   "metadata": {},
   "outputs": [],
   "source": [
    "for entity in doc.ents:\n",
    "    print(entity.text, entity.label_)"
   ]
  }
 ],
 "metadata": {
  "language_info": {
   "name": "python"
  }
 },
 "nbformat": 4,
 "nbformat_minor": 5
}
